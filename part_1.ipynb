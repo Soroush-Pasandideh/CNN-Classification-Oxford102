{
  "cells": [
    {
      "cell_type": "markdown",
      "metadata": {
        "id": "2rpWI3cRGPTX"
      },
      "source": [
        "# phase 1"
      ]
    },
    {
      "cell_type": "markdown",
      "metadata": {
        "id": "D0ddSnxuGLAi"
      },
      "source": [
        "## imports"
      ]
    },
    {
      "cell_type": "code",
      "execution_count": 1,
      "metadata": {
        "colab": {
          "base_uri": "https://localhost:8080/"
        },
        "id": "gSUC7gxINeOx",
        "outputId": "a6796378-e371-4bb9-d983-7de4de6873a0"
      },
      "outputs": [
        {
          "output_type": "stream",
          "name": "stdout",
          "text": [
            "Collecting torchinfo\n",
            "  Downloading torchinfo-1.8.0-py3-none-any.whl (23 kB)\n",
            "Installing collected packages: torchinfo\n",
            "Successfully installed torchinfo-1.8.0\n"
          ]
        }
      ],
      "source": [
        "!pip install torchinfo"
      ]
    },
    {
      "cell_type": "code",
      "execution_count": 2,
      "metadata": {
        "id": "DRxbohbATDdy"
      },
      "outputs": [],
      "source": [
        "import torch\n",
        "import torch.nn as nn\n",
        "import torchvision\n",
        "# import utils\n",
        "from typing import List\n",
        "from torchvision import transforms, models, datasets\n",
        "import torch\n",
        "from torchinfo import summary\n",
        "from torch.utils.data import DataLoader, Subset, random_split, ConcatDataset\n",
        "import numpy as np\n",
        "import random\n",
        "from os.path import exists\n",
        "import os\n",
        "from typing import List, Dict, Tuple\n",
        "import matplotlib.pyplot as plt\n",
        "from sklearn.metrics import accuracy_score, confusion_matrix\n",
        "from sklearn.metrics import ConfusionMatrixDisplay\n",
        "import seaborn as sns\n",
        "from sklearn.utils.multiclass import unique_labels\n",
        "from sklearn.metrics import accuracy_score, confusion_matrix"
      ]
    },
    {
      "cell_type": "markdown",
      "metadata": {
        "id": "0UkOP_xTGApf"
      },
      "source": [
        "## GPU state"
      ]
    },
    {
      "cell_type": "code",
      "execution_count": 3,
      "metadata": {
        "colab": {
          "base_uri": "https://localhost:8080/"
        },
        "id": "vcJYNoSIqHWw",
        "outputId": "60a17609-e35c-4a46-93b8-b821448643dd"
      },
      "outputs": [
        {
          "output_type": "execute_result",
          "data": {
            "text/plain": [
              "device(type='cuda', index=0)"
            ]
          },
          "metadata": {},
          "execution_count": 3
        }
      ],
      "source": [
        "use_gpu = True\n",
        "device = torch.device(\"cuda:0\" if torch.cuda.is_available() and use_gpu else \"cpu\")\n",
        "# device = torch.device(\"cpu\")\n",
        "device"
      ]
    },
    {
      "cell_type": "code",
      "execution_count": 4,
      "metadata": {
        "colab": {
          "base_uri": "https://localhost:8080/"
        },
        "id": "0GIL20ZmUfhD",
        "outputId": "1ac6dc8c-4a88-4925-a2aa-02373672ca38"
      },
      "outputs": [
        {
          "output_type": "stream",
          "name": "stdout",
          "text": [
            "CUDA available:  True\n",
            "Code running on GPU:  False\n"
          ]
        }
      ],
      "source": [
        "import torch\n",
        "\n",
        "# Check if CUDA (GPU support) is available\n",
        "print(\"CUDA available: \", torch.cuda.is_available())\n",
        "\n",
        "# Check if code is running on GPU\n",
        "print(\"Code running on GPU: \", torch.cuda.is_initialized())\n"
      ]
    },
    {
      "cell_type": "markdown",
      "metadata": {
        "id": "B03Ai5UkTDd0"
      },
      "source": [
        "## Data Loader"
      ]
    },
    {
      "cell_type": "code",
      "execution_count": 5,
      "metadata": {
        "id": "F07yw0wNTDd2"
      },
      "outputs": [],
      "source": [
        "def get_oxford_splits(\n",
        "    batch_size: int,\n",
        "    data_loader_seed: int = 111,\n",
        "    pin_memory: bool = True,\n",
        "    num_workers: int = 2,\n",
        "    ):\n",
        "    K = 5\n",
        "    num_support = 80\n",
        "    num_query = 20\n",
        "\n",
        "    def seed_worker(worker_id):\n",
        "        # worker_seed = torch.initial_seed() % 2 ** 32\n",
        "        np.random.seed(data_loader_seed)\n",
        "        random.seed(data_loader_seed)\n",
        "    g = torch.Generator()\n",
        "    g.manual_seed(data_loader_seed)\n",
        "\n",
        "    support_classes = list(np.arange(num_support))\n",
        "    query_classes = list(np.arange(num_query) + num_support)\n",
        "\n",
        "    img_dim = 64\n",
        "\n",
        "    train_transforms = transforms.Compose([\n",
        "        transforms.Resize((img_dim, img_dim)),\n",
        "        transforms.RandomHorizontalFlip(),\n",
        "        transforms.ToTensor(),\n",
        "        transforms.Normalize([0.485, 0.456, 0.406],[0.229, 0.224, 0.225])])\n",
        "    test_transforms = transforms.Compose([\n",
        "        transforms.Resize((img_dim, img_dim)),\n",
        "        transforms.ToTensor(),\n",
        "        transforms.Normalize([0.485, 0.456, 0.406],[0.229, 0.224, 0.225])])\n",
        "    validation_transforms = transforms.Compose([\n",
        "        transforms.Resize((img_dim, img_dim)),\n",
        "        transforms.ToTensor(),\n",
        "        transforms.Normalize([0.485, 0.456, 0.406],[0.229, 0.224, 0.225])])\n",
        "\n",
        "    data_path = f'/content/data'\n",
        "\n",
        "    train_ds_full = datasets.Flowers102(root=data_path, split=\"train\", download=True, transform=train_transforms)\n",
        "    val_ds_full = datasets.Flowers102(root=data_path, split=\"val\", download=True, transform=validation_transforms)\n",
        "    test_ds_full = datasets.Flowers102(root=data_path, split=\"test\", download=True, transform=test_transforms)\n",
        "\n",
        "    train_indxs_support = torch.where(torch.isin(torch.tensor(train_ds_full._labels), torch.asarray(support_classes)))[0]\n",
        "    val_indxs_support = torch.where(torch.isin(torch.tensor(val_ds_full._labels), torch.asarray(support_classes)))[0]\n",
        "    test_indxs_support = torch.where(torch.isin(torch.tensor(test_ds_full._labels), torch.asarray(support_classes)))[0]\n",
        "\n",
        "    train_ds_subset_support = torch.utils.data.Subset(train_ds_full, train_indxs_support)\n",
        "    val_ds_subset_support = torch.utils.data.Subset(val_ds_full, val_indxs_support)\n",
        "    test_ds_subset_support = torch.utils.data.Subset(test_ds_full, test_indxs_support)\n",
        "\n",
        "    merged_dataset = ConcatDataset([train_ds_subset_support, val_ds_subset_support, test_ds_subset_support])\n",
        "    ### A, B\n",
        "    train_ds_support, test_ds_support = torch.utils.data.random_split(merged_dataset, [0.75, 0.25], generator=torch.Generator().manual_seed(42))\n",
        "    ###\n",
        "\n",
        "    train_indxs_query = torch.where(torch.isin(torch.tensor(train_ds_full._labels), torch.asarray(query_classes)))[0]\n",
        "    N = 10\n",
        "    starting_indices = np.arange(0, len(train_indxs_query), N)\n",
        "    train_indxs_query = np.hstack([train_indxs_query[i:i+K] for i in starting_indices if i + K <= len(train_indxs_query)])\n",
        "    ### C\n",
        "    train_ds_query = torch.utils.data.Subset(train_ds_full, train_indxs_query)\n",
        "    ###\n",
        "\n",
        "    val_indxs_query = torch.where(torch.isin(torch.tensor(val_ds_full._labels), torch.asarray(query_classes)))[0]\n",
        "    test_indxs_query = torch.where(torch.isin(torch.tensor(test_ds_full._labels), torch.asarray(query_classes)))[0]\n",
        "    val_ds_subset_query = torch.utils.data.Subset(val_ds_full, val_indxs_query)\n",
        "    test_ds_subset_query = torch.utils.data.Subset(test_ds_full, test_indxs_query)\n",
        "\n",
        "    test_ds_query_full = ConcatDataset([val_ds_subset_query, test_ds_subset_query])\n",
        "    ### D\n",
        "    _, test_ds_query = torch.utils.data.random_split(test_ds_query_full, [0.7, 0.3], generator=torch.Generator().manual_seed(42))\n",
        "    ###\n",
        "\n",
        "    ### E\n",
        "    test_all = ConcatDataset([test_ds_query, test_ds_support])\n",
        "\n",
        "\n",
        "    A_train_dl = DataLoader(\n",
        "        train_ds_support,\n",
        "        batch_size = batch_size,\n",
        "        shuffle=True,\n",
        "        worker_init_fn=seed_worker,\n",
        "        generator=g,\n",
        "        drop_last=False,\n",
        "        pin_memory=pin_memory,\n",
        "        num_workers=num_workers\n",
        "    )\n",
        "    A_test_dl = DataLoader(\n",
        "        test_ds_support,\n",
        "        batch_size = batch_size,\n",
        "        shuffle=True,\n",
        "        worker_init_fn=seed_worker,\n",
        "        generator=g,\n",
        "        drop_last=False,\n",
        "        pin_memory=pin_memory,\n",
        "        num_workers=num_workers\n",
        "    )\n",
        "\n",
        "    B_train_dl = DataLoader(\n",
        "        train_ds_query,\n",
        "        batch_size = batch_size,\n",
        "        shuffle=True,\n",
        "        worker_init_fn=seed_worker,\n",
        "        generator=g,\n",
        "        drop_last=False,\n",
        "        pin_memory=pin_memory,\n",
        "        num_workers=num_workers\n",
        "    )\n",
        "    B_test_dl = DataLoader(\n",
        "        test_ds_query,\n",
        "        batch_size = batch_size,\n",
        "        shuffle=True,\n",
        "        worker_init_fn=seed_worker,\n",
        "        generator=g,\n",
        "        drop_last=False,\n",
        "        pin_memory=pin_memory,\n",
        "        num_workers=num_workers\n",
        "    )\n",
        "    test_all = DataLoader(\n",
        "        test_all,\n",
        "        batch_size = batch_size,\n",
        "        shuffle=True,\n",
        "        worker_init_fn=seed_worker,\n",
        "        generator=g,\n",
        "        drop_last=False,\n",
        "        pin_memory=pin_memory,\n",
        "        num_workers=num_workers\n",
        "    )\n",
        "\n",
        "    return A_train_dl, A_test_dl, B_train_dl, B_test_dl, test_all"
      ]
    },
    {
      "cell_type": "markdown",
      "metadata": {
        "id": "6VoGLQNV0AOX"
      },
      "source": [
        "## Split data"
      ]
    },
    {
      "cell_type": "code",
      "execution_count": 6,
      "metadata": {
        "id": "nqwdU4e3TDd4",
        "colab": {
          "base_uri": "https://localhost:8080/"
        },
        "outputId": "6f50448c-76a4-4c24-ca95-62ed51e8b44c"
      },
      "outputs": [
        {
          "output_type": "stream",
          "name": "stdout",
          "text": [
            "Downloading https://thor.robots.ox.ac.uk/datasets/flowers-102/102flowers.tgz to /content/data/flowers-102/102flowers.tgz\n"
          ]
        },
        {
          "output_type": "stream",
          "name": "stderr",
          "text": [
            "100%|██████████| 344862509/344862509 [00:16<00:00, 20579304.62it/s]\n"
          ]
        },
        {
          "output_type": "stream",
          "name": "stdout",
          "text": [
            "Extracting /content/data/flowers-102/102flowers.tgz to /content/data/flowers-102\n",
            "Downloading https://thor.robots.ox.ac.uk/datasets/flowers-102/imagelabels.mat to /content/data/flowers-102/imagelabels.mat\n"
          ]
        },
        {
          "output_type": "stream",
          "name": "stderr",
          "text": [
            "100%|██████████| 502/502 [00:00<00:00, 510929.53it/s]\n"
          ]
        },
        {
          "output_type": "stream",
          "name": "stdout",
          "text": [
            "Downloading https://thor.robots.ox.ac.uk/datasets/flowers-102/setid.mat to /content/data/flowers-102/setid.mat\n"
          ]
        },
        {
          "output_type": "stream",
          "name": "stderr",
          "text": [
            "100%|██████████| 14989/14989 [00:00<00:00, 15867850.24it/s]\n"
          ]
        }
      ],
      "source": [
        "A_train_dl, A_test_dl, B_train_dl, B_test_dl, test_all = get_oxford_splits(\n",
        "    batch_size=250,\n",
        "    data_loader_seed=111,\n",
        "    pin_memory=False,\n",
        "    num_workers=1\n",
        ")"
      ]
    },
    {
      "cell_type": "markdown",
      "metadata": {
        "id": "ryLMC8ZYnkou"
      },
      "source": [
        "## plot output"
      ]
    },
    {
      "cell_type": "code",
      "execution_count": 7,
      "metadata": {
        "id": "ygHE7HptnjQA"
      },
      "outputs": [],
      "source": [
        "def make_dir(dir_name: str):\n",
        "    \"\"\"\n",
        "    creates directory \"dir_name\" if it doesn't exists\n",
        "    \"\"\"\n",
        "    if not os.path.exists(dir_name):\n",
        "        os.makedirs(dir_name)\n",
        "\n",
        "def custom_plot_training_stats(\n",
        "        acc_hist,\n",
        "        loss_hist,\n",
        "        phase_list,\n",
        "        title: str,\n",
        "        dir: str,\n",
        "        name: str = 'acc_loss'):\n",
        "    fig, (ax1, ax2) = plt.subplots(nrows = 1, ncols = 2, figsize=[14, 6], dpi=100)\n",
        "\n",
        "    for phase in phase_list:\n",
        "        lowest_loss_x = np.argmin(np.array(loss_hist[phase]))\n",
        "        lowest_loss_y = loss_hist[phase][lowest_loss_x]\n",
        "\n",
        "        ax1.annotate(\"{:.4f}\".format(lowest_loss_y), [lowest_loss_x, lowest_loss_y])\n",
        "        ax1.plot(loss_hist[phase], '-x', label=f'{phase} loss', markevery = [lowest_loss_x])\n",
        "\n",
        "        ax1.set_xlabel(xlabel='epochs')\n",
        "        ax1.set_ylabel(ylabel='loss')\n",
        "\n",
        "        ax1.grid(color = 'green', linestyle = '--', linewidth = 0.5, alpha=0.75)\n",
        "        ax1.legend()\n",
        "        ax1.label_outer()\n",
        "\n",
        "    # acc:\n",
        "    for phase in phase_list:\n",
        "        highest_acc_x = np.argmax(np.array(acc_hist[phase]))\n",
        "        highest_acc_y = acc_hist[phase][highest_acc_x]\n",
        "\n",
        "        ax2.annotate(\"{:.4f}\".format(highest_acc_y), [highest_acc_x, highest_acc_y])\n",
        "        ax2.plot(acc_hist[phase], '-x', label=f'{phase} acc', markevery = [highest_acc_x])\n",
        "\n",
        "        ax2.set_xlabel(xlabel='epochs')\n",
        "        ax2.set_ylabel(ylabel='acc')\n",
        "\n",
        "        ax2.grid(color = 'green', linestyle = '--', linewidth = 0.5, alpha=0.75)\n",
        "        ax2.legend()\n",
        "        #ax2.label_outer()\n",
        "\n",
        "    fig.suptitle(f'{title}')\n",
        "\n",
        "    make_dir(dir)\n",
        "    plt.savefig(f'{dir}/{name}.jpg')\n",
        "    plt.clf()\n",
        "\n",
        "def plot_conf(labels, preds, title, dir_, name):\n",
        "    \"\"\"\n",
        "    labels: an [N, ] array containing true labels for N samples\n",
        "    preds: an [N, ] array containing predications for N samples\n",
        "\n",
        "    saves confusion matrix plot of the given prediction and true labels in 'dir_/name.jpg'\n",
        "    \"\"\"\n",
        "\n",
        "    conf = confusion_matrix(labels, preds)\n",
        "\n",
        "    plt.clf()\n",
        "    cm = conf.astype('float') / conf.sum(axis=1)[:, np.newaxis]\n",
        "    cmap = sns.light_palette(\"navy\", as_cmap=True)\n",
        "    plt.figure(figsize=(20, 20))\n",
        "    sns.heatmap(cm, annot=False, cmap=cmap, fmt=\".2f\", cbar=False)\n",
        "    plt.title(f'{title}')\n",
        "    plt.xlabel('Predicted Label')\n",
        "    plt.ylabel('True Label')\n",
        "    make_dir(dir_)\n",
        "    plt.savefig(f'{dir_}/{name}')\n"
      ]
    },
    {
      "cell_type": "markdown",
      "metadata": {
        "id": "cvgSb4Y8TDd5"
      },
      "source": [
        "## Data Analysis"
      ]
    },
    {
      "cell_type": "code",
      "execution_count": 8,
      "metadata": {
        "colab": {
          "base_uri": "https://localhost:8080/"
        },
        "id": "Pf-5RW_2TDd5",
        "outputId": "73d2ecc4-e2af-4140-f784-a3c9cfab568f"
      },
      "outputs": [
        {
          "output_type": "execute_result",
          "data": {
            "text/plain": [
              "(4617, 1538, 100, 518)"
            ]
          },
          "metadata": {},
          "execution_count": 8
        }
      ],
      "source": [
        "len(A_train_dl.dataset), len(A_test_dl.dataset), len(B_train_dl.dataset), len(B_test_dl.dataset),"
      ]
    },
    {
      "cell_type": "code",
      "execution_count": 9,
      "metadata": {
        "colab": {
          "base_uri": "https://localhost:8080/"
        },
        "id": "-KIrJjCgTDd6",
        "outputId": "1dd164d0-05e9-454f-9071-42d2d244daf1"
      },
      "outputs": [
        {
          "output_type": "execute_result",
          "data": {
            "text/plain": [
              "(19, 1, 1, 3)"
            ]
          },
          "metadata": {},
          "execution_count": 9
        }
      ],
      "source": [
        "len(A_train_dl), len(B_train_dl), len(B_train_dl), len(B_test_dl)"
      ]
    },
    {
      "cell_type": "code",
      "execution_count": 10,
      "metadata": {
        "colab": {
          "base_uri": "https://localhost:8080/"
        },
        "id": "-8htOAGm_sKJ",
        "outputId": "8ef13c3c-6fe1-4847-af86-3752e99bf16d"
      },
      "outputs": [
        {
          "output_type": "execute_result",
          "data": {
            "text/plain": [
              "torch.Size([3, 64, 64])"
            ]
          },
          "metadata": {},
          "execution_count": 10
        }
      ],
      "source": [
        "A_train_dl.dataset[0][0].shape"
      ]
    },
    {
      "cell_type": "code",
      "execution_count": 11,
      "metadata": {
        "colab": {
          "base_uri": "https://localhost:8080/"
        },
        "id": "gfSjAZ5ITDd6",
        "outputId": "850bb547-c163-4408-cd12-d3405276c6bd"
      },
      "outputs": [
        {
          "output_type": "stream",
          "name": "stdout",
          "text": [
            "data index:  0\n",
            "input:  torch.Size([3, 64, 64]) , type of input:  <class 'torch.Tensor'>\n",
            "target:  46 , type of target:  <class 'int'>\n",
            "data index:  1\n",
            "input:  torch.Size([3, 64, 64]) , type of input:  <class 'torch.Tensor'>\n",
            "target:  54 , type of target:  <class 'int'>\n",
            "data index:  2\n",
            "input:  torch.Size([3, 64, 64]) , type of input:  <class 'torch.Tensor'>\n",
            "target:  17 , type of target:  <class 'int'>\n"
          ]
        }
      ],
      "source": [
        "for data_indx, (input, target) in enumerate(A_train_dl.dataset):\n",
        "    if data_indx < 3:\n",
        "        print('data index: ', data_indx)\n",
        "        print('input: ', input.shape, ', type of input: ', type(input))\n",
        "        print('target: ', target, ', type of target: ', type(target))\n",
        "    else:\n",
        "        break"
      ]
    },
    {
      "cell_type": "markdown",
      "metadata": {
        "id": "8X58_xpiTDd8"
      },
      "source": [
        "## Making network"
      ]
    },
    {
      "cell_type": "code",
      "execution_count": 12,
      "metadata": {
        "id": "7mOnovmoTDd8"
      },
      "outputs": [],
      "source": [
        "class CNN(nn.Module):\n",
        "    def __init__(self, num_classes=80):\n",
        "        super(CNN, self).__init__()\n",
        "\n",
        "        self.flatten = nn.Flatten()\n",
        "        # conv1\n",
        "        self.conv1 = nn.Conv2d(3, 64, kernel_size=3, stride=1, padding=1)\n",
        "        self.bn1 = nn.BatchNorm2d(64)\n",
        "        self.relu1 = nn.ReLU()\n",
        "\n",
        "        # conv2\n",
        "        self.conv2_1 = nn.Conv2d(64, 64, kernel_size=3, stride=1, padding=1)\n",
        "        self.bn2_1 = nn.BatchNorm2d(64)\n",
        "        self.relu2_1 = nn.ReLU()\n",
        "\n",
        "        self.conv2_2 = nn.Conv2d(64, 64, kernel_size=3, stride=1, padding=1)\n",
        "        self.bn2_2 = nn.BatchNorm2d(64)\n",
        "        self.relu2_2 = nn.ReLU()\n",
        "\n",
        "        self.conv2_3 = nn.Conv2d(64, 64, kernel_size=3, stride=1, padding=1)\n",
        "        self.bn2_3 = nn.BatchNorm2d(64)\n",
        "        self.relu2_3 = nn.ReLU()\n",
        "\n",
        "        self.conv2_4 = nn.Conv2d(64, 64, kernel_size=3, stride=1, padding=1)\n",
        "        self.bn2_4 = nn.BatchNorm2d(64)\n",
        "        self.relu2_4 = nn.ReLU()\n",
        "\n",
        "        # pool1\n",
        "        self.pool1 = nn.MaxPool2d(kernel_size=2, stride=2)\n",
        "\n",
        "        # conv3\n",
        "        self.conv3_1 = nn.Conv2d(64, 96, kernel_size=3, stride=1, padding=1)\n",
        "        self.bn3_1 = nn.BatchNorm2d(96)\n",
        "        self.relu3_1 = nn.ReLU()\n",
        "\n",
        "        self.conv3_2 = nn.Conv2d(96, 96, kernel_size=3, stride=1, padding=1)\n",
        "        self.bn3_2 = nn.BatchNorm2d(96)\n",
        "        self.relu3_2 = nn.ReLU()\n",
        "\n",
        "        self.conv3_3 = nn.Conv2d(96, 96, kernel_size=3, stride=1, padding=1)\n",
        "        self.bn3_3 = nn.BatchNorm2d(96)\n",
        "        self.relu3_3 = nn.ReLU()\n",
        "\n",
        "        self.conv3_4 = nn.Conv2d(96, 96, kernel_size=3, stride=1, padding=1)\n",
        "        self.bn3_4 = nn.BatchNorm2d(96)\n",
        "        self.relu3_4 = nn.ReLU()\n",
        "\n",
        "        # pool2\n",
        "        self.pool2 = nn.MaxPool2d(kernel_size=2, stride=2)\n",
        "\n",
        "        # conv4\n",
        "        self.conv4_1 = nn.Conv2d(96, 128, kernel_size=3, stride=1, padding=1)\n",
        "        self.bn4_1 = nn.BatchNorm2d(128)\n",
        "        self.relu4_1 = nn.ReLU()\n",
        "\n",
        "        self.conv4_2 = nn.Conv2d(128, 128, kernel_size=3, stride=1, padding=1)\n",
        "        self.bn4_2 = nn.BatchNorm2d(128)\n",
        "        self.relu4_2 = nn.ReLU()\n",
        "\n",
        "        self.conv4_3 = nn.Conv2d(128, 128, kernel_size=3, stride=1, padding=1)\n",
        "        self.bn4_3 = nn.BatchNorm2d(128)\n",
        "        self.relu4_3 = nn.ReLU()\n",
        "\n",
        "        self.conv4_4 = nn.Conv2d(128, 128, kernel_size=3, stride=1, padding=1)\n",
        "        self.bn4_4 = nn.BatchNorm2d(128)\n",
        "        self.relu4_4 = nn.ReLU()\n",
        "\n",
        "        # pool3\n",
        "        self.pool3 = nn.MaxPool2d(kernel_size=2, stride=2)\n",
        "\n",
        "        # conv5\n",
        "        self.conv5_1 = nn.Conv2d(128, 256, kernel_size=3, stride=1, padding=1)\n",
        "        self.bn5_1 = nn.BatchNorm2d(256)\n",
        "        self.relu5_1 = nn.ReLU()\n",
        "\n",
        "        self.conv5_2 = nn.Conv2d(256, 256, kernel_size=3, stride=1, padding=1)\n",
        "        self.bn5_2 = nn.BatchNorm2d(256)\n",
        "        self.relu5_2 = nn.ReLU()\n",
        "\n",
        "        self.conv5_3 = nn.Conv2d(256, 256, kernel_size=3, stride=1, padding=1)\n",
        "        self.bn5_3 = nn.BatchNorm2d(256)\n",
        "        self.relu5_3 = nn.ReLU()\n",
        "\n",
        "        self.conv5_4 = nn.Conv2d(256, 256, kernel_size=3, stride=1, padding=1)\n",
        "        self.bn5_4 = nn.BatchNorm2d(256)\n",
        "        self.relu5_4 = nn.ReLU()\n",
        "\n",
        "        # pool4\n",
        "        self.pool4 = nn.MaxPool2d(kernel_size=2, stride=2)\n",
        "\n",
        "        # foolly connected\n",
        "        self.flatten = nn.Flatten()\n",
        "        self.fc = nn.Linear(256*4*4, num_classes)\n",
        "\n",
        "    def forward(self, inputs, debug=False):\n",
        "        # conv 1\n",
        "        conv1 = self.conv1(inputs)\n",
        "        bn1 = self.bn1(conv1)\n",
        "        relu1 = self.relu1(bn1)\n",
        "\n",
        "        # conv 2\n",
        "        conv2_1 = self.conv2_1(relu1)\n",
        "        bn2_1 = self.bn2_1(conv2_1)\n",
        "        relu2_1 = self.relu2_1(bn2_1)\n",
        "\n",
        "        conv2_2 = self.conv2_2(relu2_1)\n",
        "        bn2_2 = self.bn2_2(conv2_2)\n",
        "        relu2_2 = self.relu2_2(bn2_2)\n",
        "\n",
        "        conv2_3 = self.conv2_3(relu2_2)\n",
        "        bn2_3 = self.bn2_3(conv2_3)\n",
        "        relu2_3 = self.relu2_3(bn2_3)\n",
        "\n",
        "        conv2_4 = self.conv2_4(relu2_3)\n",
        "        bn2_4 = self.bn2_4(conv2_4)\n",
        "        relu2_4 = self.relu2_4(bn2_4)\n",
        "\n",
        "        # pool 1\n",
        "        pool1 = self.pool1(relu2_4)\n",
        "\n",
        "        # conv 3\n",
        "        conv3_1 = self.conv3_1(pool1)\n",
        "        bn3_1 = self.bn3_1(conv3_1)\n",
        "        relu3_1 = self.relu3_1(bn3_1)\n",
        "\n",
        "        conv3_2 = self.conv3_2(relu3_1)\n",
        "        bn3_2 = self.bn3_2(conv3_2)\n",
        "        relu3_2 = self.relu3_2(bn3_2)\n",
        "\n",
        "        conv3_3 = self.conv3_3(relu3_2)\n",
        "        bn3_3 = self.bn3_3(conv3_3)\n",
        "        relu3_3 = self.relu3_3(bn3_3)\n",
        "\n",
        "        conv3_4 = self.conv3_4(relu3_3)\n",
        "        bn3_4 = self.bn3_4(conv3_4)\n",
        "        relu3_4 = self.relu3_4(bn3_4)\n",
        "\n",
        "        # pool 2\n",
        "        pool2 = self.pool2(relu3_4)\n",
        "\n",
        "        # conv 4\n",
        "        conv4_1 = self.conv4_1(pool2)\n",
        "        bn4_1 = self.bn4_1(conv4_1)\n",
        "        relu4_1 = self.relu4_1(bn4_1)\n",
        "\n",
        "        conv4_2 = self.conv4_2(relu4_1)\n",
        "        bn4_2 = self.bn4_2(conv4_2)\n",
        "        relu4_2 = self.relu4_2(bn4_2)\n",
        "\n",
        "        conv4_3 = self.conv4_3(relu4_2)\n",
        "        bn4_3 = self.bn4_3(conv4_3)\n",
        "        relu4_3 = self.relu4_3(bn4_3)\n",
        "\n",
        "        conv4_4 = self.conv4_4(relu4_3)\n",
        "        bn4_4 = self.bn4_4(conv4_4)\n",
        "        relu4_4 = self.relu4_4(bn4_4)\n",
        "\n",
        "        # pool 3\n",
        "        pool3 = self.pool3(relu4_4)\n",
        "\n",
        "        # conv 5\n",
        "        conv5_1 = self.conv5_1(pool3)\n",
        "        bn5_1 = self.bn5_1(conv5_1)\n",
        "        relu5_1 = self.relu5_1(bn5_1)\n",
        "\n",
        "        conv5_2 = self.conv5_2(relu5_1)\n",
        "        bn5_2 = self.bn5_2(conv5_2)\n",
        "        relu5_2 = self.relu5_2(bn5_2)\n",
        "\n",
        "        conv5_3 = self.conv5_3(relu5_2)\n",
        "        bn5_3 = self.bn5_3(conv5_3)\n",
        "        relu5_3 = self.relu5_3(bn5_3)\n",
        "\n",
        "        conv5_4 = self.conv5_4(relu5_3)\n",
        "        bn5_4 = self.bn5_4(conv5_4)\n",
        "        relu5_4 = self.relu5_4(bn5_4)\n",
        "\n",
        "        # pool 4\n",
        "        pool4 = self.pool4(relu5_4)\n",
        "\n",
        "        # fc\n",
        "        flatten = self.flatten(pool4)\n",
        "        fc = self.fc(flatten)\n",
        "\n",
        "        return(fc)\n",
        "\n",
        "    def freeze_except_FC_layer(self):\n",
        "        for param in self.parameters():\n",
        "            param.requires_grad = False\n",
        "        for param in self.fc.parameters():\n",
        "            param.requires_grad = True\n",
        "\n",
        "    def freeze_FC_except_last_20_neurons(self):\n",
        "        # Freeze all parameters in the fully connected layer\n",
        "        for param in self.fc.parameters():\n",
        "            param.requires_grad = False\n",
        "\n",
        "        # Unfreeze the parameters of the last 20 neurons\n",
        "        self.fc.weight.requires_grad = True\n",
        "        self.fc.bias.requires_grad = True\n",
        "        self.fc.weight.data[:80, :].requires_grad = False\n",
        "        self.fc.bias.data[:80].requires_grad = False\n",
        "\n",
        "    def unfreeze_all_layers(self):\n",
        "        for param in self.parameters():\n",
        "            param.requires_grad = True"
      ]
    },
    {
      "cell_type": "markdown",
      "metadata": {
        "id": "l_GDS8aMyxlJ"
      },
      "source": [
        "## Train model"
      ]
    },
    {
      "cell_type": "code",
      "execution_count": 13,
      "metadata": {
        "id": "CgXu7x7bzIJr"
      },
      "outputs": [],
      "source": [
        "def train_one_epoch(model: nn.Module, optim: torch.optim.Optimizer,\n",
        "                    dataloader: DataLoader, loss_fn):\n",
        "\n",
        "    num_samples = len(dataloader.dataset)\n",
        "    num_batches = len(dataloader)\n",
        "    running_corrects = 0\n",
        "    running_loss = 0.0\n",
        "\n",
        "    model.train()\n",
        "\n",
        "    for batch_indx, (inputs, targets) in enumerate(dataloader): # Get a batch of Data\n",
        "        inputs = inputs.to(device)\n",
        "        targets = targets.to(device)\n",
        "\n",
        "        outputs = model(inputs) # Forward Pass\n",
        "        loss = loss_fn(outputs, targets) # Compute Loss\n",
        "\n",
        "        loss.backward() # Compute Gradients\n",
        "        optim.step() # Update parameters\n",
        "        optim.zero_grad() # zero the parameter's gradients\n",
        "\n",
        "        _, preds = torch.max(outputs, dim=1)\n",
        "        running_corrects += torch.sum(preds == targets).cpu()\n",
        "        running_loss += loss.item()\n",
        "\n",
        "        # print(f\"< TRAIN >--< {batch_indx} >-------------------------------\")\n",
        "        # print(f\"out:\\n{outputs}\")\n",
        "        # print(f\"tar:\\n{target_tensor}\")\n",
        "        # print(f\"running_corrects:\\n{running_corrects}\")\n",
        "        # print(f\"running_loss:\\n{running_loss}\")\n",
        "\n",
        "    epoch_acc = (running_corrects / num_samples) * 100\n",
        "    print(\"train: \", running_corrects, num_samples)\n",
        "    epoch_loss = (running_loss / num_batches)\n",
        "\n",
        "    return epoch_acc, epoch_loss"
      ]
    },
    {
      "cell_type": "markdown",
      "metadata": {
        "id": "C9F2sjhX2e9t"
      },
      "source": [
        "## Test model"
      ]
    },
    {
      "cell_type": "code",
      "execution_count": 14,
      "metadata": {
        "id": "pPiBHmCp0jyC"
      },
      "outputs": [],
      "source": [
        "def test_model(model: nn.Module,\n",
        "               dataloader: DataLoader, loss_fn):\n",
        "\n",
        "    num_samples = len(dataloader.dataset)\n",
        "    num_batches = len(dataloader)\n",
        "    running_corrects = 0\n",
        "    running_loss = 0.0\n",
        "\n",
        "    true_labels = torch.empty(0).to(device)\n",
        "    pred_labels = torch.empty(0).to(device)\n",
        "\n",
        "    # we call `model.eval()` to set dropout and batch normalization layers to evaluation mode before running inference.\n",
        "    model.eval()\n",
        "\n",
        "    with torch.no_grad():\n",
        "        for batch_indx, (inputs, targets) in enumerate(dataloader): # Get a batch of Data\n",
        "            inputs = inputs.to(device)\n",
        "            targets = targets.to(device)\n",
        "\n",
        "            outputs = model(inputs) # Forward Pass\n",
        "            loss = loss_fn(outputs, targets) # Compute Loss\n",
        "\n",
        "            _, preds = torch.max(outputs, 1) #\n",
        "            running_corrects += torch.sum(preds == targets).cpu()\n",
        "            running_loss += loss.item()\n",
        "\n",
        "            true_labels = torch.cat([true_labels, targets], dim=0)\n",
        "            pred_labels = torch.cat([pred_labels, preds], dim=0)\n",
        "\n",
        "    test_acc = (running_corrects / num_samples) * 100\n",
        "    print(\"test: \", running_corrects, num_samples)\n",
        "    test_loss = (running_loss / num_batches)\n",
        "\n",
        "    return test_acc, test_loss, true_labels, pred_labels"
      ]
    },
    {
      "cell_type": "markdown",
      "source": [
        "## confusion matrix"
      ],
      "metadata": {
        "id": "RZzZXJI4ntJj"
      }
    },
    {
      "cell_type": "code",
      "source": [
        "def plot_conf(labels, preds, title, dir_, name):\n",
        "    \"\"\"\n",
        "    labels: an [N, ] array containing true labels for N samples\n",
        "    preds: an [N, ] array containing predications for N samples\n",
        "\n",
        "    saves confusion matrix plot of the given prediction and true labels in 'dir_/name.jpg'\n",
        "    \"\"\"\n",
        "\n",
        "    conf = confusion_matrix(labels, preds)\n",
        "\n",
        "    plt.clf()\n",
        "    cm = conf.astype('float') / conf.sum(axis=1)[:, np.newaxis]\n",
        "    cmap = sns.light_palette(\"navy\", as_cmap=True)\n",
        "    plt.figure(figsize=(20, 20))\n",
        "    sns.heatmap(cm, annot=False, cmap=cmap, fmt=\".2f\", cbar=False)\n",
        "    plt.title(f'{title}')\n",
        "    plt.xlabel('Predicted Label')\n",
        "    plt.ylabel('True Label')\n",
        "    make_dir(dir_)\n",
        "    plt.savefig(f'{dir_}/{name}')\n"
      ],
      "metadata": {
        "id": "iB8RfTh7nryL"
      },
      "execution_count": 15,
      "outputs": []
    },
    {
      "cell_type": "markdown",
      "metadata": {
        "id": "pjWz5rRn2jlp"
      },
      "source": [
        "## Evaluate model"
      ]
    },
    {
      "cell_type": "code",
      "execution_count": 16,
      "metadata": {
        "id": "bAexh8NL1SOm"
      },
      "outputs": [],
      "source": [
        "def evaluate_A():\n",
        "    num_epochs = 30\n",
        "    learning_rate = 0.0005\n",
        "\n",
        "    full_dataloaders = {\n",
        "        'train': A_train_dl,\n",
        "        'test': A_test_dl\n",
        "    }\n",
        "\n",
        "    model = CNN(80)\n",
        "    model = model.to(device)\n",
        "\n",
        "    optimizer = torch.optim.Adam(model.parameters(), lr=learning_rate)\n",
        "    cross_entropy = nn.CrossEntropyLoss()\n",
        "\n",
        "    acc_history = {'train': [], 'test': []}\n",
        "    loss_history = {'train': [], 'test': []}\n",
        "\n",
        "    for epoch in range(num_epochs):\n",
        "        train_acc, train_loss = train_one_epoch(model=model, optim=optimizer, dataloader=full_dataloaders['train'], loss_fn=cross_entropy)\n",
        "        test_acc, test_loss, true_labels, pred_labels = test_model(model=model, dataloader=full_dataloaders['test'], loss_fn=cross_entropy)\n",
        "\n",
        "        acc_history['train'].append(train_acc)\n",
        "        acc_history['test'].append(test_acc)\n",
        "        loss_history['train'].append(train_loss)\n",
        "        loss_history['test'].append(test_loss)\n",
        "\n",
        "        plot_conf(true_labels.cpu(), pred_labels.cpu(), f\"epoch num :{epoch}\", './ph1_matrix', f'epoch_{epoch}')\n",
        "\n",
        "        print(f\"---------< epoch: {epoch} >---------\")\n",
        "\n",
        "    # save model\n",
        "    model_path = './CNN_model_ph1.pth'\n",
        "    torch.save(model.state_dict(), model_path)\n",
        "\n",
        "    # plot accuracy and loss\n",
        "    custom_plot_training_stats(acc_history, loss_history, ['train', 'test'], title='demp', dir='demo_plots')\n",
        "\n",
        "    # show the details of model\n",
        "    batch_size=250\n",
        "    print(summary(model, input_size=(batch_size, 3, 64, 64)))\n",
        "\n",
        "    return (acc_history, loss_history)"
      ]
    },
    {
      "cell_type": "code",
      "execution_count": 17,
      "metadata": {
        "id": "3tgjkkym8zzJ",
        "colab": {
          "base_uri": "https://localhost:8080/",
          "height": 1000
        },
        "outputId": "89b4803e-6185-4cec-fbf9-e7d22ec6902a"
      },
      "outputs": [
        {
          "output_type": "stream",
          "name": "stdout",
          "text": [
            "train:  tensor(274) 4617\n",
            "test:  tensor(67) 1538\n",
            "---------< epoch: 0 >---------\n",
            "train:  tensor(622) 4617\n",
            "test:  tensor(198) 1538\n",
            "---------< epoch: 1 >---------\n",
            "train:  tensor(1114) 4617\n",
            "test:  tensor(365) 1538\n",
            "---------< epoch: 2 >---------\n",
            "train:  tensor(1477) 4617\n",
            "test:  tensor(467) 1538\n",
            "---------< epoch: 3 >---------\n",
            "train:  tensor(1779) 4617\n",
            "test:  tensor(543) 1538\n",
            "---------< epoch: 4 >---------\n",
            "train:  tensor(2021) 4617\n",
            "test:  tensor(493) 1538\n",
            "---------< epoch: 5 >---------\n",
            "train:  tensor(2288) 4617\n",
            "test:  tensor(431) 1538\n",
            "---------< epoch: 6 >---------\n",
            "train:  tensor(2513) 4617\n",
            "test:  tensor(667) 1538\n",
            "---------< epoch: 7 >---------\n",
            "train:  tensor(2717) 4617\n",
            "test:  tensor(653) 1538\n",
            "---------< epoch: 8 >---------\n",
            "train:  tensor(2949) 4617\n",
            "test:  tensor(671) 1538\n",
            "---------< epoch: 9 >---------\n",
            "train:  tensor(3279) 4617\n",
            "test:  tensor(772) 1538\n",
            "---------< epoch: 10 >---------\n",
            "train:  tensor(3433) 4617\n",
            "test:  tensor(813) 1538\n",
            "---------< epoch: 11 >---------\n",
            "train:  tensor(3673) 4617\n",
            "test:  tensor(854) 1538\n",
            "---------< epoch: 12 >---------\n",
            "train:  tensor(3815) 4617\n",
            "test:  tensor(874) 1538\n",
            "---------< epoch: 13 >---------\n",
            "train:  tensor(3965) 4617\n",
            "test:  tensor(819) 1538\n",
            "---------< epoch: 14 >---------\n",
            "train:  tensor(4001) 4617\n",
            "test:  tensor(922) 1538\n",
            "---------< epoch: 15 >---------\n",
            "train:  tensor(4209) 4617\n",
            "test:  tensor(974) 1538\n",
            "---------< epoch: 16 >---------\n",
            "train:  tensor(4306) 4617\n",
            "test:  tensor(941) 1538\n",
            "---------< epoch: 17 >---------\n",
            "train:  tensor(4394) 4617\n",
            "test:  tensor(975) 1538\n",
            "---------< epoch: 18 >---------\n",
            "train:  tensor(4433) 4617\n",
            "test:  tensor(946) 1538\n"
          ]
        },
        {
          "output_type": "stream",
          "name": "stderr",
          "text": [
            "<ipython-input-15-15acf31ff3a3>:14: RuntimeWarning: More than 20 figures have been opened. Figures created through the pyplot interface (`matplotlib.pyplot.figure`) are retained until explicitly closed and may consume too much memory. (To control this warning, see the rcParam `figure.max_open_warning`). Consider using `matplotlib.pyplot.close()`.\n",
            "  plt.figure(figsize=(20, 20))\n"
          ]
        },
        {
          "output_type": "stream",
          "name": "stdout",
          "text": [
            "---------< epoch: 19 >---------\n",
            "train:  tensor(4463) 4617\n",
            "test:  tensor(1024) 1538\n",
            "---------< epoch: 20 >---------\n",
            "train:  tensor(4523) 4617\n",
            "test:  tensor(1028) 1538\n",
            "---------< epoch: 21 >---------\n",
            "train:  tensor(4569) 4617\n",
            "test:  tensor(1010) 1538\n",
            "---------< epoch: 22 >---------\n",
            "train:  tensor(4600) 4617\n",
            "test:  tensor(1057) 1538\n",
            "---------< epoch: 23 >---------\n",
            "train:  tensor(4611) 4617\n",
            "test:  tensor(1071) 1538\n",
            "---------< epoch: 24 >---------\n",
            "train:  tensor(4615) 4617\n",
            "test:  tensor(1088) 1538\n",
            "---------< epoch: 25 >---------\n",
            "train:  tensor(4611) 4617\n",
            "test:  tensor(1076) 1538\n",
            "---------< epoch: 26 >---------\n",
            "train:  tensor(4616) 4617\n",
            "test:  tensor(1095) 1538\n",
            "---------< epoch: 27 >---------\n",
            "train:  tensor(4617) 4617\n",
            "test:  tensor(1107) 1538\n",
            "---------< epoch: 28 >---------\n",
            "train:  tensor(4617) 4617\n",
            "test:  tensor(1115) 1538\n",
            "---------< epoch: 29 >---------\n",
            "==========================================================================================\n",
            "Layer (type:depth-idx)                   Output Shape              Param #\n",
            "==========================================================================================\n",
            "CNN                                      [250, 80]                 --\n",
            "├─Conv2d: 1-1                            [250, 64, 64, 64]         1,792\n",
            "├─BatchNorm2d: 1-2                       [250, 64, 64, 64]         128\n",
            "├─ReLU: 1-3                              [250, 64, 64, 64]         --\n",
            "├─Conv2d: 1-4                            [250, 64, 64, 64]         36,928\n",
            "├─BatchNorm2d: 1-5                       [250, 64, 64, 64]         128\n",
            "├─ReLU: 1-6                              [250, 64, 64, 64]         --\n",
            "├─Conv2d: 1-7                            [250, 64, 64, 64]         36,928\n",
            "├─BatchNorm2d: 1-8                       [250, 64, 64, 64]         128\n",
            "├─ReLU: 1-9                              [250, 64, 64, 64]         --\n",
            "├─Conv2d: 1-10                           [250, 64, 64, 64]         36,928\n",
            "├─BatchNorm2d: 1-11                      [250, 64, 64, 64]         128\n",
            "├─ReLU: 1-12                             [250, 64, 64, 64]         --\n",
            "├─Conv2d: 1-13                           [250, 64, 64, 64]         36,928\n",
            "├─BatchNorm2d: 1-14                      [250, 64, 64, 64]         128\n",
            "├─ReLU: 1-15                             [250, 64, 64, 64]         --\n",
            "├─MaxPool2d: 1-16                        [250, 64, 32, 32]         --\n",
            "├─Conv2d: 1-17                           [250, 96, 32, 32]         55,392\n",
            "├─BatchNorm2d: 1-18                      [250, 96, 32, 32]         192\n",
            "├─ReLU: 1-19                             [250, 96, 32, 32]         --\n",
            "├─Conv2d: 1-20                           [250, 96, 32, 32]         83,040\n",
            "├─BatchNorm2d: 1-21                      [250, 96, 32, 32]         192\n",
            "├─ReLU: 1-22                             [250, 96, 32, 32]         --\n",
            "├─Conv2d: 1-23                           [250, 96, 32, 32]         83,040\n",
            "├─BatchNorm2d: 1-24                      [250, 96, 32, 32]         192\n",
            "├─ReLU: 1-25                             [250, 96, 32, 32]         --\n",
            "├─Conv2d: 1-26                           [250, 96, 32, 32]         83,040\n",
            "├─BatchNorm2d: 1-27                      [250, 96, 32, 32]         192\n",
            "├─ReLU: 1-28                             [250, 96, 32, 32]         --\n",
            "├─MaxPool2d: 1-29                        [250, 96, 16, 16]         --\n",
            "├─Conv2d: 1-30                           [250, 128, 16, 16]        110,720\n",
            "├─BatchNorm2d: 1-31                      [250, 128, 16, 16]        256\n",
            "├─ReLU: 1-32                             [250, 128, 16, 16]        --\n",
            "├─Conv2d: 1-33                           [250, 128, 16, 16]        147,584\n",
            "├─BatchNorm2d: 1-34                      [250, 128, 16, 16]        256\n",
            "├─ReLU: 1-35                             [250, 128, 16, 16]        --\n",
            "├─Conv2d: 1-36                           [250, 128, 16, 16]        147,584\n",
            "├─BatchNorm2d: 1-37                      [250, 128, 16, 16]        256\n",
            "├─ReLU: 1-38                             [250, 128, 16, 16]        --\n",
            "├─Conv2d: 1-39                           [250, 128, 16, 16]        147,584\n",
            "├─BatchNorm2d: 1-40                      [250, 128, 16, 16]        256\n",
            "├─ReLU: 1-41                             [250, 128, 16, 16]        --\n",
            "├─MaxPool2d: 1-42                        [250, 128, 8, 8]          --\n",
            "├─Conv2d: 1-43                           [250, 256, 8, 8]          295,168\n",
            "├─BatchNorm2d: 1-44                      [250, 256, 8, 8]          512\n",
            "├─ReLU: 1-45                             [250, 256, 8, 8]          --\n",
            "├─Conv2d: 1-46                           [250, 256, 8, 8]          590,080\n",
            "├─BatchNorm2d: 1-47                      [250, 256, 8, 8]          512\n",
            "├─ReLU: 1-48                             [250, 256, 8, 8]          --\n",
            "├─Conv2d: 1-49                           [250, 256, 8, 8]          590,080\n",
            "├─BatchNorm2d: 1-50                      [250, 256, 8, 8]          512\n",
            "├─ReLU: 1-51                             [250, 256, 8, 8]          --\n",
            "├─Conv2d: 1-52                           [250, 256, 8, 8]          590,080\n",
            "├─BatchNorm2d: 1-53                      [250, 256, 8, 8]          512\n",
            "├─ReLU: 1-54                             [250, 256, 8, 8]          --\n",
            "├─MaxPool2d: 1-55                        [250, 256, 4, 4]          --\n",
            "├─Flatten: 1-56                          [250, 4096]               --\n",
            "├─Linear: 1-57                           [250, 80]                 327,760\n",
            "==========================================================================================\n",
            "Total params: 3,405,136\n",
            "Trainable params: 3,405,136\n",
            "Non-trainable params: 0\n",
            "Total mult-adds (G): 299.60\n",
            "==========================================================================================\n",
            "Input size (MB): 12.29\n",
            "Forward/backward pass size (MB): 7602.34\n",
            "Params size (MB): 13.62\n",
            "Estimated Total Size (MB): 7628.24\n",
            "==========================================================================================\n"
          ]
        },
        {
          "output_type": "display_data",
          "data": {
            "text/plain": [
              "<Figure size 640x480 with 0 Axes>"
            ]
          },
          "metadata": {}
        },
        {
          "output_type": "display_data",
          "data": {
            "text/plain": [
              "<Figure size 2000x2000 with 0 Axes>"
            ]
          },
          "metadata": {}
        },
        {
          "output_type": "display_data",
          "data": {
            "text/plain": [
              "<Figure size 2000x2000 with 0 Axes>"
            ]
          },
          "metadata": {}
        },
        {
          "output_type": "display_data",
          "data": {
            "text/plain": [
              "<Figure size 2000x2000 with 0 Axes>"
            ]
          },
          "metadata": {}
        },
        {
          "output_type": "display_data",
          "data": {
            "text/plain": [
              "<Figure size 2000x2000 with 0 Axes>"
            ]
          },
          "metadata": {}
        },
        {
          "output_type": "display_data",
          "data": {
            "text/plain": [
              "<Figure size 2000x2000 with 0 Axes>"
            ]
          },
          "metadata": {}
        },
        {
          "output_type": "display_data",
          "data": {
            "text/plain": [
              "<Figure size 2000x2000 with 0 Axes>"
            ]
          },
          "metadata": {}
        },
        {
          "output_type": "display_data",
          "data": {
            "text/plain": [
              "<Figure size 2000x2000 with 0 Axes>"
            ]
          },
          "metadata": {}
        },
        {
          "output_type": "display_data",
          "data": {
            "text/plain": [
              "<Figure size 2000x2000 with 0 Axes>"
            ]
          },
          "metadata": {}
        },
        {
          "output_type": "display_data",
          "data": {
            "text/plain": [
              "<Figure size 2000x2000 with 0 Axes>"
            ]
          },
          "metadata": {}
        },
        {
          "output_type": "display_data",
          "data": {
            "text/plain": [
              "<Figure size 2000x2000 with 0 Axes>"
            ]
          },
          "metadata": {}
        },
        {
          "output_type": "display_data",
          "data": {
            "text/plain": [
              "<Figure size 2000x2000 with 0 Axes>"
            ]
          },
          "metadata": {}
        },
        {
          "output_type": "display_data",
          "data": {
            "text/plain": [
              "<Figure size 2000x2000 with 0 Axes>"
            ]
          },
          "metadata": {}
        },
        {
          "output_type": "display_data",
          "data": {
            "text/plain": [
              "<Figure size 2000x2000 with 0 Axes>"
            ]
          },
          "metadata": {}
        },
        {
          "output_type": "display_data",
          "data": {
            "text/plain": [
              "<Figure size 2000x2000 with 0 Axes>"
            ]
          },
          "metadata": {}
        },
        {
          "output_type": "display_data",
          "data": {
            "text/plain": [
              "<Figure size 2000x2000 with 0 Axes>"
            ]
          },
          "metadata": {}
        },
        {
          "output_type": "display_data",
          "data": {
            "text/plain": [
              "<Figure size 2000x2000 with 0 Axes>"
            ]
          },
          "metadata": {}
        },
        {
          "output_type": "display_data",
          "data": {
            "text/plain": [
              "<Figure size 2000x2000 with 0 Axes>"
            ]
          },
          "metadata": {}
        },
        {
          "output_type": "display_data",
          "data": {
            "text/plain": [
              "<Figure size 2000x2000 with 0 Axes>"
            ]
          },
          "metadata": {}
        },
        {
          "output_type": "display_data",
          "data": {
            "text/plain": [
              "<Figure size 2000x2000 with 0 Axes>"
            ]
          },
          "metadata": {}
        },
        {
          "output_type": "display_data",
          "data": {
            "text/plain": [
              "<Figure size 2000x2000 with 0 Axes>"
            ]
          },
          "metadata": {}
        },
        {
          "output_type": "display_data",
          "data": {
            "text/plain": [
              "<Figure size 2000x2000 with 0 Axes>"
            ]
          },
          "metadata": {}
        },
        {
          "output_type": "display_data",
          "data": {
            "text/plain": [
              "<Figure size 2000x2000 with 0 Axes>"
            ]
          },
          "metadata": {}
        },
        {
          "output_type": "display_data",
          "data": {
            "text/plain": [
              "<Figure size 2000x2000 with 0 Axes>"
            ]
          },
          "metadata": {}
        },
        {
          "output_type": "display_data",
          "data": {
            "text/plain": [
              "<Figure size 2000x2000 with 0 Axes>"
            ]
          },
          "metadata": {}
        },
        {
          "output_type": "display_data",
          "data": {
            "text/plain": [
              "<Figure size 2000x2000 with 0 Axes>"
            ]
          },
          "metadata": {}
        },
        {
          "output_type": "display_data",
          "data": {
            "text/plain": [
              "<Figure size 2000x2000 with 0 Axes>"
            ]
          },
          "metadata": {}
        },
        {
          "output_type": "display_data",
          "data": {
            "text/plain": [
              "<Figure size 2000x2000 with 0 Axes>"
            ]
          },
          "metadata": {}
        },
        {
          "output_type": "display_data",
          "data": {
            "text/plain": [
              "<Figure size 2000x2000 with 0 Axes>"
            ]
          },
          "metadata": {}
        },
        {
          "output_type": "display_data",
          "data": {
            "text/plain": [
              "<Figure size 2000x2000 with 0 Axes>"
            ]
          },
          "metadata": {}
        },
        {
          "output_type": "display_data",
          "data": {
            "text/plain": [
              "<Figure size 2000x2000 with 1 Axes>"
            ],
            "image/png": "[encoded data removed]"
          },
          "metadata": {}
        },
        {
          "output_type": "display_data",
          "data": {
            "text/plain": [
              "<Figure size 1400x600 with 0 Axes>"
            ]
          },
          "metadata": {}
        }
      ],
      "source": [
        "acc_history, loss_history = evaluate_A()"
      ]
    },
    {
      "cell_type": "markdown",
      "metadata": {
        "id": "SwMi4-EZGXOv"
      },
      "source": [
        "# phase 2"
      ]
    },
    {
      "cell_type": "markdown",
      "source": [
        "## part1 - evaluate on B dataset"
      ],
      "metadata": {
        "id": "0JhLLyyXzIsu"
      }
    },
    {
      "cell_type": "code",
      "source": [
        "def evaluate_B_1():\n",
        "    num_epochs = 60\n",
        "    learning_rate = 0.0003\n",
        "\n",
        "    full_dataloaders = {\n",
        "        'train': B_train_dl,\n",
        "        'test': test_all\n",
        "    }\n",
        "\n",
        "    # loading phase1 model\n",
        "    model1 = CNN(80)\n",
        "    model2 = CNN(100)\n",
        "    model1 = model1.to(device)\n",
        "    model2 = model2.to(device)\n",
        "    model_path = './CNN_model_ph1.pth'\n",
        "    model1.load_state_dict(torch.load(model_path))\n",
        "\n",
        "    # Copy parameters from model1 to model2 (excluding the fully connected layer)\n",
        "    for layer1, layer2 in zip(model1.children(), model2.children()):\n",
        "        if isinstance(layer1, nn.Linear):\n",
        "            continue  # Skip copying parameters for fully connected layer\n",
        "\n",
        "        # Copy parameters from layer1 to layer2\n",
        "        for param1, param2 in zip(layer1.parameters(), layer2.parameters()):\n",
        "            param2.data.copy_(param1.data)\n",
        "\n",
        "    model2.fc.weight.data[:80, :] = model1.fc.weight.data\n",
        "    model2.fc.bias.data[:80] = model1.fc.bias.data\n",
        "    # model2.freeze_layers()\n",
        "\n",
        "    optimizer = torch.optim.SGD(model2.parameters(), lr=learning_rate, momentum=0.9)\n",
        "    cross_entropy = nn.CrossEntropyLoss()\n",
        "\n",
        "    acc_history = {'train': [], 'test': []}\n",
        "    loss_history = {'train': [], 'test': []}\n",
        "\n",
        "    for epoch in range(num_epochs):\n",
        "        train_acc, train_loss = train_one_epoch(model=model2, optim=optimizer, dataloader=full_dataloaders['train'], loss_fn=cross_entropy)\n",
        "        test_acc, test_loss, true_labels, pred_labels = test_model(model=model2, dataloader=full_dataloaders['test'], loss_fn=cross_entropy)\n",
        "\n",
        "        acc_history['train'].append(train_acc)\n",
        "        acc_history['test'].append(test_acc)\n",
        "        loss_history['train'].append(train_loss)\n",
        "        loss_history['test'].append(test_loss)\n",
        "\n",
        "        plot_conf(true_labels.cpu(), pred_labels.cpu(), f\"epoch num :{epoch}\", './ph2_1_matrix', f'epoch_{epoch}')\n",
        "\n",
        "        print(f\"---------< epoch: {epoch} >---------\")\n",
        "\n",
        "    # save model\n",
        "    model_path = './CNN_model_ph2_1.pth'\n",
        "    torch.save(model2.state_dict(), model_path)\n",
        "\n",
        "    # plot accuracy and loss\n",
        "    custom_plot_training_stats(acc_history, loss_history, ['train', 'test'], title='demp', dir='demo_plots_2_1')\n",
        "\n",
        "    # show the details of model\n",
        "    batch_size=250\n",
        "    print(summary(model2, input_size=(batch_size, 3, 64, 64)))\n",
        "\n",
        "    return (acc_history, loss_history)"
      ],
      "metadata": {
        "id": "TMUYXvflltgq"
      },
      "execution_count": 18,
      "outputs": []
    },
    {
      "cell_type": "code",
      "source": [
        "acc_history2_1, loss_history2_1 = evaluate_B_1()"
      ],
      "metadata": {
        "id": "aFW6STsOzDFc",
        "colab": {
          "base_uri": "https://localhost:8080/",
          "height": 1000
        },
        "outputId": "c6ed1bc7-17ec-4fd3-d950-24035109b80c"
      },
      "execution_count": 19,
      "outputs": [
        {
          "output_type": "stream",
          "name": "stdout",
          "text": [
            "train:  tensor(0) 100\n",
            "test:  tensor(27) 2056\n",
            "---------< epoch: 0 >---------\n",
            "train:  tensor(0) 100\n",
            "test:  tensor(27) 2056\n",
            "---------< epoch: 1 >---------\n",
            "train:  tensor(0) 100\n",
            "test:  tensor(27) 2056\n",
            "---------< epoch: 2 >---------\n",
            "train:  tensor(0) 100\n",
            "test:  tensor(27) 2056\n",
            "---------< epoch: 3 >---------\n",
            "train:  tensor(0) 100\n",
            "test:  tensor(27) 2056\n",
            "---------< epoch: 4 >---------\n",
            "train:  tensor(1) 100\n",
            "test:  tensor(27) 2056\n",
            "---------< epoch: 5 >---------\n",
            "train:  tensor(3) 100\n",
            "test:  tensor(27) 2056\n",
            "---------< epoch: 6 >---------\n",
            "train:  tensor(6) 100\n",
            "test:  tensor(27) 2056\n",
            "---------< epoch: 7 >---------\n",
            "train:  tensor(3) 100\n",
            "test:  tensor(27) 2056\n",
            "---------< epoch: 8 >---------\n",
            "train:  tensor(13) 100\n",
            "test:  tensor(27) 2056\n",
            "---------< epoch: 9 >---------\n",
            "train:  tensor(14) 100\n",
            "test:  tensor(27) 2056\n",
            "---------< epoch: 10 >---------\n",
            "train:  tensor(19) 100\n",
            "test:  tensor(27) 2056\n",
            "---------< epoch: 11 >---------\n",
            "train:  tensor(30) 100\n",
            "test:  tensor(27) 2056\n",
            "---------< epoch: 12 >---------\n",
            "train:  tensor(34) 100\n",
            "test:  tensor(27) 2056\n",
            "---------< epoch: 13 >---------\n",
            "train:  tensor(38) 100\n",
            "test:  tensor(27) 2056\n",
            "---------< epoch: 14 >---------\n",
            "train:  tensor(47) 100\n",
            "test:  tensor(27) 2056\n",
            "---------< epoch: 15 >---------\n",
            "train:  tensor(48) 100\n",
            "test:  tensor(27) 2056\n",
            "---------< epoch: 16 >---------\n",
            "train:  tensor(52) 100\n",
            "test:  tensor(27) 2056\n",
            "---------< epoch: 17 >---------\n",
            "train:  tensor(62) 100\n",
            "test:  tensor(29) 2056\n",
            "---------< epoch: 18 >---------\n",
            "train:  tensor(60) 100\n",
            "test:  tensor(31) 2056\n"
          ]
        },
        {
          "output_type": "stream",
          "name": "stderr",
          "text": [
            "<ipython-input-15-15acf31ff3a3>:14: RuntimeWarning: More than 20 figures have been opened. Figures created through the pyplot interface (`matplotlib.pyplot.figure`) are retained until explicitly closed and may consume too much memory. (To control this warning, see the rcParam `figure.max_open_warning`). Consider using `matplotlib.pyplot.close()`.\n",
            "  plt.figure(figsize=(20, 20))\n"
          ]
        },
        {
          "output_type": "stream",
          "name": "stdout",
          "text": [
            "---------< epoch: 19 >---------\n",
            "train:  tensor(67) 100\n",
            "test:  tensor(36) 2056\n",
            "---------< epoch: 20 >---------\n",
            "train:  tensor(72) 100\n",
            "test:  tensor(41) 2056\n",
            "---------< epoch: 21 >---------\n",
            "train:  tensor(75) 100\n",
            "test:  tensor(58) 2056\n",
            "---------< epoch: 22 >---------\n",
            "train:  tensor(80) 100\n",
            "test:  tensor(84) 2056\n",
            "---------< epoch: 23 >---------\n",
            "train:  tensor(80) 100\n",
            "test:  tensor(105) 2056\n",
            "---------< epoch: 24 >---------\n",
            "train:  tensor(85) 100\n",
            "test:  tensor(118) 2056\n",
            "---------< epoch: 25 >---------\n",
            "train:  tensor(82) 100\n",
            "test:  tensor(165) 2056\n",
            "---------< epoch: 26 >---------\n",
            "train:  tensor(82) 100\n",
            "test:  tensor(209) 2056\n",
            "---------< epoch: 27 >---------\n",
            "train:  tensor(90) 100\n",
            "test:  tensor(247) 2056\n",
            "---------< epoch: 28 >---------\n",
            "train:  tensor(95) 100\n",
            "test:  tensor(313) 2056\n",
            "---------< epoch: 29 >---------\n",
            "train:  tensor(96) 100\n",
            "test:  tensor(366) 2056\n",
            "---------< epoch: 30 >---------\n",
            "train:  tensor(92) 100\n",
            "test:  tensor(426) 2056\n",
            "---------< epoch: 31 >---------\n",
            "train:  tensor(94) 100\n",
            "test:  tensor(482) 2056\n",
            "---------< epoch: 32 >---------\n",
            "train:  tensor(94) 100\n",
            "test:  tensor(527) 2056\n",
            "---------< epoch: 33 >---------\n",
            "train:  tensor(95) 100\n",
            "test:  tensor(566) 2056\n",
            "---------< epoch: 34 >---------\n",
            "train:  tensor(95) 100\n",
            "test:  tensor(606) 2056\n",
            "---------< epoch: 35 >---------\n",
            "train:  tensor(93) 100\n",
            "test:  tensor(629) 2056\n",
            "---------< epoch: 36 >---------\n",
            "train:  tensor(97) 100\n",
            "test:  tensor(644) 2056\n",
            "---------< epoch: 37 >---------\n",
            "train:  tensor(96) 100\n",
            "test:  tensor(668) 2056\n",
            "---------< epoch: 38 >---------\n",
            "train:  tensor(95) 100\n",
            "test:  tensor(684) 2056\n",
            "---------< epoch: 39 >---------\n",
            "train:  tensor(97) 100\n",
            "test:  tensor(692) 2056\n",
            "---------< epoch: 40 >---------\n",
            "train:  tensor(98) 100\n",
            "test:  tensor(688) 2056\n",
            "---------< epoch: 41 >---------\n",
            "train:  tensor(99) 100\n",
            "test:  tensor(696) 2056\n",
            "---------< epoch: 42 >---------\n",
            "train:  tensor(98) 100\n",
            "test:  tensor(701) 2056\n",
            "---------< epoch: 43 >---------\n",
            "train:  tensor(98) 100\n",
            "test:  tensor(706) 2056\n",
            "---------< epoch: 44 >---------\n",
            "train:  tensor(98) 100\n",
            "test:  tensor(706) 2056\n",
            "---------< epoch: 45 >---------\n",
            "train:  tensor(98) 100\n",
            "test:  tensor(713) 2056\n",
            "---------< epoch: 46 >---------\n",
            "train:  tensor(98) 100\n",
            "test:  tensor(709) 2056\n",
            "---------< epoch: 47 >---------\n",
            "train:  tensor(99) 100\n",
            "test:  tensor(708) 2056\n",
            "---------< epoch: 48 >---------\n",
            "train:  tensor(98) 100\n",
            "test:  tensor(707) 2056\n",
            "---------< epoch: 49 >---------\n",
            "train:  tensor(99) 100\n",
            "test:  tensor(709) 2056\n",
            "---------< epoch: 50 >---------\n",
            "train:  tensor(99) 100\n",
            "test:  tensor(696) 2056\n",
            "---------< epoch: 51 >---------\n",
            "train:  tensor(98) 100\n",
            "test:  tensor(695) 2056\n",
            "---------< epoch: 52 >---------\n",
            "train:  tensor(99) 100\n",
            "test:  tensor(690) 2056\n",
            "---------< epoch: 53 >---------\n",
            "train:  tensor(100) 100\n",
            "test:  tensor(686) 2056\n",
            "---------< epoch: 54 >---------\n",
            "train:  tensor(100) 100\n",
            "test:  tensor(687) 2056\n",
            "---------< epoch: 55 >---------\n",
            "train:  tensor(100) 100\n",
            "test:  tensor(688) 2056\n",
            "---------< epoch: 56 >---------\n",
            "train:  tensor(100) 100\n",
            "test:  tensor(679) 2056\n",
            "---------< epoch: 57 >---------\n",
            "train:  tensor(100) 100\n",
            "test:  tensor(683) 2056\n",
            "---------< epoch: 58 >---------\n",
            "train:  tensor(100) 100\n",
            "test:  tensor(686) 2056\n",
            "---------< epoch: 59 >---------\n",
            "==========================================================================================\n",
            "Layer (type:depth-idx)                   Output Shape              Param #\n",
            "==========================================================================================\n",
            "CNN                                      [250, 100]                --\n",
            "├─Conv2d: 1-1                            [250, 64, 64, 64]         1,792\n",
            "├─BatchNorm2d: 1-2                       [250, 64, 64, 64]         128\n",
            "├─ReLU: 1-3                              [250, 64, 64, 64]         --\n",
            "├─Conv2d: 1-4                            [250, 64, 64, 64]         36,928\n",
            "├─BatchNorm2d: 1-5                       [250, 64, 64, 64]         128\n",
            "├─ReLU: 1-6                              [250, 64, 64, 64]         --\n",
            "├─Conv2d: 1-7                            [250, 64, 64, 64]         36,928\n",
            "├─BatchNorm2d: 1-8                       [250, 64, 64, 64]         128\n",
            "├─ReLU: 1-9                              [250, 64, 64, 64]         --\n",
            "├─Conv2d: 1-10                           [250, 64, 64, 64]         36,928\n",
            "├─BatchNorm2d: 1-11                      [250, 64, 64, 64]         128\n",
            "├─ReLU: 1-12                             [250, 64, 64, 64]         --\n",
            "├─Conv2d: 1-13                           [250, 64, 64, 64]         36,928\n",
            "├─BatchNorm2d: 1-14                      [250, 64, 64, 64]         128\n",
            "├─ReLU: 1-15                             [250, 64, 64, 64]         --\n",
            "├─MaxPool2d: 1-16                        [250, 64, 32, 32]         --\n",
            "├─Conv2d: 1-17                           [250, 96, 32, 32]         55,392\n",
            "├─BatchNorm2d: 1-18                      [250, 96, 32, 32]         192\n",
            "├─ReLU: 1-19                             [250, 96, 32, 32]         --\n",
            "├─Conv2d: 1-20                           [250, 96, 32, 32]         83,040\n",
            "├─BatchNorm2d: 1-21                      [250, 96, 32, 32]         192\n",
            "├─ReLU: 1-22                             [250, 96, 32, 32]         --\n",
            "├─Conv2d: 1-23                           [250, 96, 32, 32]         83,040\n",
            "├─BatchNorm2d: 1-24                      [250, 96, 32, 32]         192\n",
            "├─ReLU: 1-25                             [250, 96, 32, 32]         --\n",
            "├─Conv2d: 1-26                           [250, 96, 32, 32]         83,040\n",
            "├─BatchNorm2d: 1-27                      [250, 96, 32, 32]         192\n",
            "├─ReLU: 1-28                             [250, 96, 32, 32]         --\n",
            "├─MaxPool2d: 1-29                        [250, 96, 16, 16]         --\n",
            "├─Conv2d: 1-30                           [250, 128, 16, 16]        110,720\n",
            "├─BatchNorm2d: 1-31                      [250, 128, 16, 16]        256\n",
            "├─ReLU: 1-32                             [250, 128, 16, 16]        --\n",
            "├─Conv2d: 1-33                           [250, 128, 16, 16]        147,584\n",
            "├─BatchNorm2d: 1-34                      [250, 128, 16, 16]        256\n",
            "├─ReLU: 1-35                             [250, 128, 16, 16]        --\n",
            "├─Conv2d: 1-36                           [250, 128, 16, 16]        147,584\n",
            "├─BatchNorm2d: 1-37                      [250, 128, 16, 16]        256\n",
            "├─ReLU: 1-38                             [250, 128, 16, 16]        --\n",
            "├─Conv2d: 1-39                           [250, 128, 16, 16]        147,584\n",
            "├─BatchNorm2d: 1-40                      [250, 128, 16, 16]        256\n",
            "├─ReLU: 1-41                             [250, 128, 16, 16]        --\n",
            "├─MaxPool2d: 1-42                        [250, 128, 8, 8]          --\n",
            "├─Conv2d: 1-43                           [250, 256, 8, 8]          295,168\n",
            "├─BatchNorm2d: 1-44                      [250, 256, 8, 8]          512\n",
            "├─ReLU: 1-45                             [250, 256, 8, 8]          --\n",
            "├─Conv2d: 1-46                           [250, 256, 8, 8]          590,080\n",
            "├─BatchNorm2d: 1-47                      [250, 256, 8, 8]          512\n",
            "├─ReLU: 1-48                             [250, 256, 8, 8]          --\n",
            "├─Conv2d: 1-49                           [250, 256, 8, 8]          590,080\n",
            "├─BatchNorm2d: 1-50                      [250, 256, 8, 8]          512\n",
            "├─ReLU: 1-51                             [250, 256, 8, 8]          --\n",
            "├─Conv2d: 1-52                           [250, 256, 8, 8]          590,080\n",
            "├─BatchNorm2d: 1-53                      [250, 256, 8, 8]          512\n",
            "├─ReLU: 1-54                             [250, 256, 8, 8]          --\n",
            "├─MaxPool2d: 1-55                        [250, 256, 4, 4]          --\n",
            "├─Flatten: 1-56                          [250, 4096]               --\n",
            "├─Linear: 1-57                           [250, 100]                409,700\n",
            "==========================================================================================\n",
            "Total params: 3,487,076\n",
            "Trainable params: 3,487,076\n",
            "Non-trainable params: 0\n",
            "Total mult-adds (G): 299.62\n",
            "==========================================================================================\n",
            "Input size (MB): 12.29\n",
            "Forward/backward pass size (MB): 7602.38\n",
            "Params size (MB): 13.95\n",
            "Estimated Total Size (MB): 7628.61\n",
            "==========================================================================================\n"
          ]
        },
        {
          "output_type": "display_data",
          "data": {
            "text/plain": [
              "<Figure size 640x480 with 0 Axes>"
            ]
          },
          "metadata": {}
        },
        {
          "output_type": "display_data",
          "data": {
            "text/plain": [
              "<Figure size 2000x2000 with 0 Axes>"
            ]
          },
          "metadata": {}
        },
        {
          "output_type": "display_data",
          "data": {
            "text/plain": [
              "<Figure size 2000x2000 with 0 Axes>"
            ]
          },
          "metadata": {}
        },
        {
          "output_type": "display_data",
          "data": {
            "text/plain": [
              "<Figure size 2000x2000 with 0 Axes>"
            ]
          },
          "metadata": {}
        },
        {
          "output_type": "display_data",
          "data": {
            "text/plain": [
              "<Figure size 2000x2000 with 0 Axes>"
            ]
          },
          "metadata": {}
        },
        {
          "output_type": "display_data",
          "data": {
            "text/plain": [
              "<Figure size 2000x2000 with 0 Axes>"
            ]
          },
          "metadata": {}
        },
        {
          "output_type": "display_data",
          "data": {
            "text/plain": [
              "<Figure size 2000x2000 with 0 Axes>"
            ]
          },
          "metadata": {}
        },
        {
          "output_type": "display_data",
          "data": {
            "text/plain": [
              "<Figure size 2000x2000 with 0 Axes>"
            ]
          },
          "metadata": {}
        },
        {
          "output_type": "display_data",
          "data": {
            "text/plain": [
              "<Figure size 2000x2000 with 0 Axes>"
            ]
          },
          "metadata": {}
        },
        {
          "output_type": "display_data",
          "data": {
            "text/plain": [
              "<Figure size 2000x2000 with 0 Axes>"
            ]
          },
          "metadata": {}
        },
        {
          "output_type": "display_data",
          "data": {
            "text/plain": [
              "<Figure size 2000x2000 with 0 Axes>"
            ]
          },
          "metadata": {}
        },
        {
          "output_type": "display_data",
          "data": {
            "text/plain": [
              "<Figure size 2000x2000 with 0 Axes>"
            ]
          },
          "metadata": {}
        },
        {
          "output_type": "display_data",
          "data": {
            "text/plain": [
              "<Figure size 2000x2000 with 0 Axes>"
            ]
          },
          "metadata": {}
        },
        {
          "output_type": "display_data",
          "data": {
            "text/plain": [
              "<Figure size 2000x2000 with 0 Axes>"
            ]
          },
          "metadata": {}
        },
        {
          "output_type": "display_data",
          "data": {
            "text/plain": [
              "<Figure size 2000x2000 with 0 Axes>"
            ]
          },
          "metadata": {}
        },
        {
          "output_type": "display_data",
          "data": {
            "text/plain": [
              "<Figure size 2000x2000 with 0 Axes>"
            ]
          },
          "metadata": {}
        },
        {
          "output_type": "display_data",
          "data": {
            "text/plain": [
              "<Figure size 2000x2000 with 0 Axes>"
            ]
          },
          "metadata": {}
        },
        {
          "output_type": "display_data",
          "data": {
            "text/plain": [
              "<Figure size 2000x2000 with 0 Axes>"
            ]
          },
          "metadata": {}
        },
        {
          "output_type": "display_data",
          "data": {
            "text/plain": [
              "<Figure size 2000x2000 with 0 Axes>"
            ]
          },
          "metadata": {}
        },
        {
          "output_type": "display_data",
          "data": {
            "text/plain": [
              "<Figure size 2000x2000 with 0 Axes>"
            ]
          },
          "metadata": {}
        },
        {
          "output_type": "display_data",
          "data": {
            "text/plain": [
              "<Figure size 2000x2000 with 0 Axes>"
            ]
          },
          "metadata": {}
        },
        {
          "output_type": "display_data",
          "data": {
            "text/plain": [
              "<Figure size 2000x2000 with 0 Axes>"
            ]
          },
          "metadata": {}
        },
        {
          "output_type": "display_data",
          "data": {
            "text/plain": [
              "<Figure size 2000x2000 with 0 Axes>"
            ]
          },
          "metadata": {}
        },
        {
          "output_type": "display_data",
          "data": {
            "text/plain": [
              "<Figure size 2000x2000 with 0 Axes>"
            ]
          },
          "metadata": {}
        },
        {
          "output_type": "display_data",
          "data": {
            "text/plain": [
              "<Figure size 2000x2000 with 0 Axes>"
            ]
          },
          "metadata": {}
        },
        {
          "output_type": "display_data",
          "data": {
            "text/plain": [
              "<Figure size 2000x2000 with 0 Axes>"
            ]
          },
          "metadata": {}
        },
        {
          "output_type": "display_data",
          "data": {
            "text/plain": [
              "<Figure size 2000x2000 with 0 Axes>"
            ]
          },
          "metadata": {}
        },
        {
          "output_type": "display_data",
          "data": {
            "text/plain": [
              "<Figure size 2000x2000 with 0 Axes>"
            ]
          },
          "metadata": {}
        },
        {
          "output_type": "display_data",
          "data": {
            "text/plain": [
              "<Figure size 2000x2000 with 0 Axes>"
            ]
          },
          "metadata": {}
        },
        {
          "output_type": "display_data",
          "data": {
            "text/plain": [
              "<Figure size 2000x2000 with 0 Axes>"
            ]
          },
          "metadata": {}
        },
        {
          "output_type": "display_data",
          "data": {
            "text/plain": [
              "<Figure size 2000x2000 with 0 Axes>"
            ]
          },
          "metadata": {}
        },
        {
          "output_type": "display_data",
          "data": {
            "text/plain": [
              "<Figure size 2000x2000 with 0 Axes>"
            ]
          },
          "metadata": {}
        },
        {
          "output_type": "display_data",
          "data": {
            "text/plain": [
              "<Figure size 2000x2000 with 0 Axes>"
            ]
          },
          "metadata": {}
        },
        {
          "output_type": "display_data",
          "data": {
            "text/plain": [
              "<Figure size 2000x2000 with 0 Axes>"
            ]
          },
          "metadata": {}
        },
        {
          "output_type": "display_data",
          "data": {
            "text/plain": [
              "<Figure size 2000x2000 with 0 Axes>"
            ]
          },
          "metadata": {}
        },
        {
          "output_type": "display_data",
          "data": {
            "text/plain": [
              "<Figure size 2000x2000 with 0 Axes>"
            ]
          },
          "metadata": {}
        },
        {
          "output_type": "display_data",
          "data": {
            "text/plain": [
              "<Figure size 2000x2000 with 0 Axes>"
            ]
          },
          "metadata": {}
        },
        {
          "output_type": "display_data",
          "data": {
            "text/plain": [
              "<Figure size 2000x2000 with 0 Axes>"
            ]
          },
          "metadata": {}
        },
        {
          "output_type": "display_data",
          "data": {
            "text/plain": [
              "<Figure size 2000x2000 with 0 Axes>"
            ]
          },
          "metadata": {}
        },
        {
          "output_type": "display_data",
          "data": {
            "text/plain": [
              "<Figure size 2000x2000 with 0 Axes>"
            ]
          },
          "metadata": {}
        },
        {
          "output_type": "display_data",
          "data": {
            "text/plain": [
              "<Figure size 2000x2000 with 0 Axes>"
            ]
          },
          "metadata": {}
        },
        {
          "output_type": "display_data",
          "data": {
            "text/plain": [
              "<Figure size 2000x2000 with 0 Axes>"
            ]
          },
          "metadata": {}
        },
        {
          "output_type": "display_data",
          "data": {
            "text/plain": [
              "<Figure size 2000x2000 with 0 Axes>"
            ]
          },
          "metadata": {}
        },
        {
          "output_type": "display_data",
          "data": {
            "text/plain": [
              "<Figure size 2000x2000 with 0 Axes>"
            ]
          },
          "metadata": {}
        },
        {
          "output_type": "display_data",
          "data": {
            "text/plain": [
              "<Figure size 2000x2000 with 0 Axes>"
            ]
          },
          "metadata": {}
        },
        {
          "output_type": "display_data",
          "data": {
            "text/plain": [
              "<Figure size 2000x2000 with 0 Axes>"
            ]
          },
          "metadata": {}
        },
        {
          "output_type": "display_data",
          "data": {
            "text/plain": [
              "<Figure size 2000x2000 with 0 Axes>"
            ]
          },
          "metadata": {}
        },
        {
          "output_type": "display_data",
          "data": {
            "text/plain": [
              "<Figure size 2000x2000 with 0 Axes>"
            ]
          },
          "metadata": {}
        },
        {
          "output_type": "display_data",
          "data": {
            "text/plain": [
              "<Figure size 2000x2000 with 0 Axes>"
            ]
          },
          "metadata": {}
        },
        {
          "output_type": "display_data",
          "data": {
            "text/plain": [
              "<Figure size 2000x2000 with 0 Axes>"
            ]
          },
          "metadata": {}
        },
        {
          "output_type": "display_data",
          "data": {
            "text/plain": [
              "<Figure size 2000x2000 with 0 Axes>"
            ]
          },
          "metadata": {}
        },
        {
          "output_type": "display_data",
          "data": {
            "text/plain": [
              "<Figure size 2000x2000 with 0 Axes>"
            ]
          },
          "metadata": {}
        },
        {
          "output_type": "display_data",
          "data": {
            "text/plain": [
              "<Figure size 2000x2000 with 0 Axes>"
            ]
          },
          "metadata": {}
        },
        {
          "output_type": "display_data",
          "data": {
            "text/plain": [
              "<Figure size 2000x2000 with 0 Axes>"
            ]
          },
          "metadata": {}
        },
        {
          "output_type": "display_data",
          "data": {
            "text/plain": [
              "<Figure size 2000x2000 with 0 Axes>"
            ]
          },
          "metadata": {}
        },
        {
          "output_type": "display_data",
          "data": {
            "text/plain": [
              "<Figure size 2000x2000 with 0 Axes>"
            ]
          },
          "metadata": {}
        },
        {
          "output_type": "display_data",
          "data": {
            "text/plain": [
              "<Figure size 2000x2000 with 0 Axes>"
            ]
          },
          "metadata": {}
        },
        {
          "output_type": "display_data",
          "data": {
            "text/plain": [
              "<Figure size 2000x2000 with 0 Axes>"
            ]
          },
          "metadata": {}
        },
        {
          "output_type": "display_data",
          "data": {
            "text/plain": [
              "<Figure size 2000x2000 with 0 Axes>"
            ]
          },
          "metadata": {}
        },
        {
          "output_type": "display_data",
          "data": {
            "text/plain": [
              "<Figure size 2000x2000 with 0 Axes>"
            ]
          },
          "metadata": {}
        },
        {
          "output_type": "display_data",
          "data": {
            "text/plain": [
              "<Figure size 2000x2000 with 1 Axes>"
            ],
            "image/png": "[encoded data removed]"
          },
          "metadata": {}
        },
        {
          "output_type": "display_data",
          "data": {
            "text/plain": [
              "<Figure size 1400x600 with 0 Axes>"
            ]
          },
          "metadata": {}
        }
      ]
    },
    {
      "cell_type": "markdown",
      "source": [
        "## check network copy"
      ],
      "metadata": {
        "id": "u-x2t4K1AJp3"
      }
    },
    {
      "cell_type": "code",
      "source": [
        "# loading phase1 model\n",
        "model1 = CNN(80)\n",
        "model2 = CNN(100)\n",
        "model1 = model1.to(device)\n",
        "model2 = model2.to(device)\n",
        "model_path = './CNN_model_ph1.pth'\n",
        "model1.load_state_dict(torch.load(model_path))\n",
        "\n",
        "# Copy parameters from model1 to model2 (excluding the fully connected layer)\n",
        "for layer1, layer2 in zip(model1.children(), model2.children()):\n",
        "    if isinstance(layer1, nn.Linear):\n",
        "        continue  # Skip copying parameters for fully connected layer\n",
        "\n",
        "    # Copy parameters from layer1 to layer2\n",
        "    for param1, param2 in zip(layer1.parameters(), layer2.parameters()):\n",
        "        param2.data.copy_(param1.data)\n",
        "\n",
        "model2.fc.weight.data[:80, :] = model1.fc.weight.data\n",
        "model2.fc.bias.data[:80] = model1.fc.bias.data\n",
        "# model2.freeze_layers()\n",
        "\n",
        "# -----------------\n",
        "# Compare all layers except the fully connected layer\n",
        "def are_layers_except_fc_equal(model1, model2):\n",
        "    for layer1, layer2 in zip(model1.children(), model2.children()):\n",
        "        if isinstance(layer1, nn.Linear):\n",
        "            continue  # Skip the fully connected layer\n",
        "        if not all(torch.equal(param1, param2) for param1, param2 in zip(layer1.parameters(), layer2.parameters())):\n",
        "            return False\n",
        "    return True\n",
        "\n",
        "# Check if all layers except the fully connected layer are equal\n",
        "layers_except_fc_equal = are_layers_except_fc_equal(model1, model2)\n",
        "print(f\"Are all layers except the fully connected layer equal? {layers_except_fc_equal}\")\n",
        "\n",
        "# -----------------\n",
        "# Count the number of equal parameters\n",
        "equal_parameters_count = 0\n",
        "total_parameters_count = 0\n",
        "\n",
        "for param1, param2 in zip(model1.fc.weight.data, model2.fc.weight.data):\n",
        "    total_parameters_count += param1.numel()\n",
        "\n",
        "    # Check if parameters are equal\n",
        "    if torch.equal(param1, param2):\n",
        "        equal_parameters_count += param1.numel()\n",
        "\n",
        "# Calculate the percentage of equal parameters\n",
        "percentage_equal_parameters = (equal_parameters_count / total_parameters_count) * 100\n",
        "\n",
        "print(f\"Number of equal parameters in the fully connected layer: {equal_parameters_count}\")\n",
        "print(f\"Total number of parameters in the fully connected layer: {total_parameters_count}\")\n",
        "print(f\"Percentage of equal parameters: {percentage_equal_parameters:.2f}%\")"
      ],
      "metadata": {
        "id": "-BLD7hWYzz6r",
        "colab": {
          "base_uri": "https://localhost:8080/"
        },
        "outputId": "38c89d26-2582-482e-da8a-d6e53ea4b666"
      },
      "execution_count": 20,
      "outputs": [
        {
          "output_type": "stream",
          "name": "stdout",
          "text": [
            "Are all layers except the fully connected layer equal? True\n",
            "Number of equal parameters in the fully connected layer: 327680\n",
            "Total number of parameters in the fully connected layer: 327680\n",
            "Percentage of equal parameters: 100.00%\n"
          ]
        }
      ]
    },
    {
      "cell_type": "markdown",
      "source": [
        "## part2 - evaluate on B dataset"
      ],
      "metadata": {
        "id": "d5oc7j3UoeMi"
      }
    },
    {
      "cell_type": "code",
      "source": [
        "def evaluate_B_2():\n",
        "    num_epochs = 60\n",
        "    learning_rate = 0.0003\n",
        "\n",
        "    full_dataloaders = {\n",
        "        'train': B_train_dl,\n",
        "        'test': test_all\n",
        "    }\n",
        "\n",
        "    # loading phase1 model\n",
        "    model1 = CNN(80)\n",
        "    model2 = CNN(100)\n",
        "    model1 = model1.to(device)\n",
        "    model2 = model2.to(device)\n",
        "    model_path = './CNN_model_ph1.pth'\n",
        "    model1.load_state_dict(torch.load(model_path))\n",
        "\n",
        "    # Copy parameters from model1 to model2 (excluding the fully connected layer)\n",
        "    for layer1, layer2 in zip(model1.children(), model2.children()):\n",
        "        if isinstance(layer1, nn.Linear):\n",
        "            continue  # Skip copying parameters for fully connected layer\n",
        "\n",
        "        # Copy parameters from layer1 to layer2\n",
        "        for param1, param2 in zip(layer1.parameters(), layer2.parameters()):\n",
        "            param2.data.copy_(param1.data)\n",
        "\n",
        "    model2.fc.weight.data[:80, :] = model1.fc.weight.data\n",
        "    model2.fc.bias.data[:80] = model1.fc.bias.data\n",
        "\n",
        "    # freeze all the layers exept fully connected layer\n",
        "    model2.freeze_except_FC_layer()\n",
        "\n",
        "    optimizer = torch.optim.SGD(model2.parameters(), lr=learning_rate, momentum=0.9)\n",
        "    cross_entropy = nn.CrossEntropyLoss()\n",
        "\n",
        "    acc_history = {'train': [], 'test': []}\n",
        "    loss_history = {'train': [], 'test': []}\n",
        "\n",
        "    for epoch in range(num_epochs):\n",
        "        train_acc, train_loss = train_one_epoch(model=model2, optim=optimizer, dataloader=full_dataloaders['train'], loss_fn=cross_entropy)\n",
        "        test_acc, test_loss, true_labels, pred_labels = test_model(model=model2, dataloader=full_dataloaders['test'], loss_fn=cross_entropy)\n",
        "\n",
        "        acc_history['train'].append(train_acc)\n",
        "        acc_history['test'].append(test_acc)\n",
        "        loss_history['train'].append(train_loss)\n",
        "        loss_history['test'].append(test_loss)\n",
        "\n",
        "        plot_conf(true_labels.cpu(), pred_labels.cpu(), f\"epoch num :{epoch}\", './ph2_2_matrix', f'epoch_{epoch}')\n",
        "\n",
        "        print(f\"---------< epoch: {epoch} >---------\")\n",
        "\n",
        "    # # save model\n",
        "    model_path = './CNN_model_ph2_2.pth'\n",
        "    torch.save(model2.state_dict(), model_path)\n",
        "\n",
        "    # plot accuracy and loss\n",
        "    custom_plot_training_stats(acc_history, loss_history, ['train', 'test'], title='demp', dir='demo_plots_2_2')\n",
        "\n",
        "    # show the details of model\n",
        "    batch_size=250\n",
        "    print(summary(model2, input_size=(batch_size, 3, 64, 64)))\n",
        "\n",
        "    return (acc_history, loss_history)"
      ],
      "metadata": {
        "id": "2GE3s3bfokKQ"
      },
      "execution_count": 21,
      "outputs": []
    },
    {
      "cell_type": "code",
      "source": [
        "acc_history2_2, loss_history2_2 = evaluate_B_2()"
      ],
      "metadata": {
        "id": "6lpayPLMpFjT",
        "colab": {
          "base_uri": "https://localhost:8080/",
          "height": 1000
        },
        "outputId": "938363b2-bd82-4895-e213-00eb4a21d464"
      },
      "execution_count": 22,
      "outputs": [
        {
          "output_type": "stream",
          "name": "stdout",
          "text": [
            "train:  tensor(0) 100\n",
            "test:  tensor(27) 2056\n",
            "---------< epoch: 0 >---------\n",
            "train:  tensor(0) 100\n",
            "test:  tensor(27) 2056\n",
            "---------< epoch: 1 >---------\n",
            "train:  tensor(0) 100\n",
            "test:  tensor(27) 2056\n",
            "---------< epoch: 2 >---------\n",
            "train:  tensor(0) 100\n",
            "test:  tensor(27) 2056\n",
            "---------< epoch: 3 >---------\n",
            "train:  tensor(1) 100\n",
            "test:  tensor(27) 2056\n",
            "---------< epoch: 4 >---------\n",
            "train:  tensor(1) 100\n",
            "test:  tensor(27) 2056\n",
            "---------< epoch: 5 >---------\n",
            "train:  tensor(1) 100\n",
            "test:  tensor(27) 2056\n",
            "---------< epoch: 6 >---------\n",
            "train:  tensor(1) 100\n",
            "test:  tensor(27) 2056\n",
            "---------< epoch: 7 >---------\n",
            "train:  tensor(3) 100\n",
            "test:  tensor(27) 2056\n",
            "---------< epoch: 8 >---------\n",
            "train:  tensor(4) 100\n",
            "test:  tensor(27) 2056\n",
            "---------< epoch: 9 >---------\n",
            "train:  tensor(5) 100\n",
            "test:  tensor(27) 2056\n",
            "---------< epoch: 10 >---------\n",
            "train:  tensor(8) 100\n",
            "test:  tensor(27) 2056\n",
            "---------< epoch: 11 >---------\n",
            "train:  tensor(14) 100\n",
            "test:  tensor(27) 2056\n",
            "---------< epoch: 12 >---------\n",
            "train:  tensor(16) 100\n",
            "test:  tensor(27) 2056\n",
            "---------< epoch: 13 >---------\n",
            "train:  tensor(20) 100\n",
            "test:  tensor(27) 2056\n",
            "---------< epoch: 14 >---------\n",
            "train:  tensor(25) 100\n",
            "test:  tensor(27) 2056\n",
            "---------< epoch: 15 >---------\n",
            "train:  tensor(31) 100\n",
            "test:  tensor(31) 2056\n",
            "---------< epoch: 16 >---------\n",
            "train:  tensor(38) 100\n",
            "test:  tensor(31) 2056\n",
            "---------< epoch: 17 >---------\n",
            "train:  tensor(51) 100\n",
            "test:  tensor(36) 2056\n",
            "---------< epoch: 18 >---------\n",
            "train:  tensor(47) 100\n",
            "test:  tensor(44) 2056\n"
          ]
        },
        {
          "output_type": "stream",
          "name": "stderr",
          "text": [
            "<ipython-input-15-15acf31ff3a3>:14: RuntimeWarning: More than 20 figures have been opened. Figures created through the pyplot interface (`matplotlib.pyplot.figure`) are retained until explicitly closed and may consume too much memory. (To control this warning, see the rcParam `figure.max_open_warning`). Consider using `matplotlib.pyplot.close()`.\n",
            "  plt.figure(figsize=(20, 20))\n"
          ]
        },
        {
          "output_type": "stream",
          "name": "stdout",
          "text": [
            "---------< epoch: 19 >---------\n",
            "train:  tensor(52) 100\n",
            "test:  tensor(50) 2056\n",
            "---------< epoch: 20 >---------\n",
            "train:  tensor(54) 100\n",
            "test:  tensor(54) 2056\n",
            "---------< epoch: 21 >---------\n",
            "train:  tensor(58) 100\n",
            "test:  tensor(62) 2056\n",
            "---------< epoch: 22 >---------\n",
            "train:  tensor(70) 100\n",
            "test:  tensor(87) 2056\n",
            "---------< epoch: 23 >---------\n",
            "train:  tensor(73) 100\n",
            "test:  tensor(116) 2056\n",
            "---------< epoch: 24 >---------\n",
            "train:  tensor(76) 100\n",
            "test:  tensor(152) 2056\n",
            "---------< epoch: 25 >---------\n",
            "train:  tensor(78) 100\n",
            "test:  tensor(194) 2056\n",
            "---------< epoch: 26 >---------\n",
            "train:  tensor(77) 100\n",
            "test:  tensor(250) 2056\n",
            "---------< epoch: 27 >---------\n",
            "train:  tensor(83) 100\n",
            "test:  tensor(309) 2056\n",
            "---------< epoch: 28 >---------\n",
            "train:  tensor(78) 100\n",
            "test:  tensor(360) 2056\n",
            "---------< epoch: 29 >---------\n",
            "train:  tensor(80) 100\n",
            "test:  tensor(416) 2056\n",
            "---------< epoch: 30 >---------\n",
            "train:  tensor(87) 100\n",
            "test:  tensor(486) 2056\n",
            "---------< epoch: 31 >---------\n",
            "train:  tensor(88) 100\n",
            "test:  tensor(544) 2056\n",
            "---------< epoch: 32 >---------\n",
            "train:  tensor(87) 100\n",
            "test:  tensor(579) 2056\n",
            "---------< epoch: 33 >---------\n",
            "train:  tensor(91) 100\n",
            "test:  tensor(624) 2056\n",
            "---------< epoch: 34 >---------\n",
            "train:  tensor(88) 100\n",
            "test:  tensor(663) 2056\n",
            "---------< epoch: 35 >---------\n",
            "train:  tensor(90) 100\n",
            "test:  tensor(692) 2056\n",
            "---------< epoch: 36 >---------\n",
            "train:  tensor(89) 100\n",
            "test:  tensor(712) 2056\n",
            "---------< epoch: 37 >---------\n",
            "train:  tensor(93) 100\n",
            "test:  tensor(739) 2056\n",
            "---------< epoch: 38 >---------\n",
            "train:  tensor(89) 100\n",
            "test:  tensor(753) 2056\n",
            "---------< epoch: 39 >---------\n",
            "train:  tensor(90) 100\n",
            "test:  tensor(769) 2056\n",
            "---------< epoch: 40 >---------\n",
            "train:  tensor(90) 100\n",
            "test:  tensor(777) 2056\n",
            "---------< epoch: 41 >---------\n",
            "train:  tensor(93) 100\n",
            "test:  tensor(783) 2056\n",
            "---------< epoch: 42 >---------\n",
            "train:  tensor(90) 100\n",
            "test:  tensor(785) 2056\n",
            "---------< epoch: 43 >---------\n",
            "train:  tensor(95) 100\n",
            "test:  tensor(783) 2056\n",
            "---------< epoch: 44 >---------\n",
            "train:  tensor(92) 100\n",
            "test:  tensor(787) 2056\n",
            "---------< epoch: 45 >---------\n",
            "train:  tensor(95) 100\n",
            "test:  tensor(787) 2056\n",
            "---------< epoch: 46 >---------\n",
            "train:  tensor(95) 100\n",
            "test:  tensor(777) 2056\n",
            "---------< epoch: 47 >---------\n",
            "train:  tensor(92) 100\n",
            "test:  tensor(770) 2056\n",
            "---------< epoch: 48 >---------\n",
            "train:  tensor(94) 100\n",
            "test:  tensor(766) 2056\n",
            "---------< epoch: 49 >---------\n",
            "train:  tensor(94) 100\n",
            "test:  tensor(766) 2056\n",
            "---------< epoch: 50 >---------\n",
            "train:  tensor(96) 100\n",
            "test:  tensor(756) 2056\n",
            "---------< epoch: 51 >---------\n",
            "train:  tensor(95) 100\n",
            "test:  tensor(753) 2056\n",
            "---------< epoch: 52 >---------\n",
            "train:  tensor(94) 100\n",
            "test:  tensor(742) 2056\n",
            "---------< epoch: 53 >---------\n",
            "train:  tensor(95) 100\n",
            "test:  tensor(738) 2056\n",
            "---------< epoch: 54 >---------\n",
            "train:  tensor(96) 100\n",
            "test:  tensor(729) 2056\n",
            "---------< epoch: 55 >---------\n",
            "train:  tensor(96) 100\n",
            "test:  tensor(725) 2056\n",
            "---------< epoch: 56 >---------\n",
            "train:  tensor(97) 100\n",
            "test:  tensor(725) 2056\n",
            "---------< epoch: 57 >---------\n",
            "train:  tensor(98) 100\n",
            "test:  tensor(721) 2056\n",
            "---------< epoch: 58 >---------\n",
            "train:  tensor(96) 100\n",
            "test:  tensor(721) 2056\n",
            "---------< epoch: 59 >---------\n",
            "==========================================================================================\n",
            "Layer (type:depth-idx)                   Output Shape              Param #\n",
            "==========================================================================================\n",
            "CNN                                      [250, 100]                --\n",
            "├─Conv2d: 1-1                            [250, 64, 64, 64]         (1,792)\n",
            "├─BatchNorm2d: 1-2                       [250, 64, 64, 64]         (128)\n",
            "├─ReLU: 1-3                              [250, 64, 64, 64]         --\n",
            "├─Conv2d: 1-4                            [250, 64, 64, 64]         (36,928)\n",
            "├─BatchNorm2d: 1-5                       [250, 64, 64, 64]         (128)\n",
            "├─ReLU: 1-6                              [250, 64, 64, 64]         --\n",
            "├─Conv2d: 1-7                            [250, 64, 64, 64]         (36,928)\n",
            "├─BatchNorm2d: 1-8                       [250, 64, 64, 64]         (128)\n",
            "├─ReLU: 1-9                              [250, 64, 64, 64]         --\n",
            "├─Conv2d: 1-10                           [250, 64, 64, 64]         (36,928)\n",
            "├─BatchNorm2d: 1-11                      [250, 64, 64, 64]         (128)\n",
            "├─ReLU: 1-12                             [250, 64, 64, 64]         --\n",
            "├─Conv2d: 1-13                           [250, 64, 64, 64]         (36,928)\n",
            "├─BatchNorm2d: 1-14                      [250, 64, 64, 64]         (128)\n",
            "├─ReLU: 1-15                             [250, 64, 64, 64]         --\n",
            "├─MaxPool2d: 1-16                        [250, 64, 32, 32]         --\n",
            "├─Conv2d: 1-17                           [250, 96, 32, 32]         (55,392)\n",
            "├─BatchNorm2d: 1-18                      [250, 96, 32, 32]         (192)\n",
            "├─ReLU: 1-19                             [250, 96, 32, 32]         --\n",
            "├─Conv2d: 1-20                           [250, 96, 32, 32]         (83,040)\n",
            "├─BatchNorm2d: 1-21                      [250, 96, 32, 32]         (192)\n",
            "├─ReLU: 1-22                             [250, 96, 32, 32]         --\n",
            "├─Conv2d: 1-23                           [250, 96, 32, 32]         (83,040)\n",
            "├─BatchNorm2d: 1-24                      [250, 96, 32, 32]         (192)\n",
            "├─ReLU: 1-25                             [250, 96, 32, 32]         --\n",
            "├─Conv2d: 1-26                           [250, 96, 32, 32]         (83,040)\n",
            "├─BatchNorm2d: 1-27                      [250, 96, 32, 32]         (192)\n",
            "├─ReLU: 1-28                             [250, 96, 32, 32]         --\n",
            "├─MaxPool2d: 1-29                        [250, 96, 16, 16]         --\n",
            "├─Conv2d: 1-30                           [250, 128, 16, 16]        (110,720)\n",
            "├─BatchNorm2d: 1-31                      [250, 128, 16, 16]        (256)\n",
            "├─ReLU: 1-32                             [250, 128, 16, 16]        --\n",
            "├─Conv2d: 1-33                           [250, 128, 16, 16]        (147,584)\n",
            "├─BatchNorm2d: 1-34                      [250, 128, 16, 16]        (256)\n",
            "├─ReLU: 1-35                             [250, 128, 16, 16]        --\n",
            "├─Conv2d: 1-36                           [250, 128, 16, 16]        (147,584)\n",
            "├─BatchNorm2d: 1-37                      [250, 128, 16, 16]        (256)\n",
            "├─ReLU: 1-38                             [250, 128, 16, 16]        --\n",
            "├─Conv2d: 1-39                           [250, 128, 16, 16]        (147,584)\n",
            "├─BatchNorm2d: 1-40                      [250, 128, 16, 16]        (256)\n",
            "├─ReLU: 1-41                             [250, 128, 16, 16]        --\n",
            "├─MaxPool2d: 1-42                        [250, 128, 8, 8]          --\n",
            "├─Conv2d: 1-43                           [250, 256, 8, 8]          (295,168)\n",
            "├─BatchNorm2d: 1-44                      [250, 256, 8, 8]          (512)\n",
            "├─ReLU: 1-45                             [250, 256, 8, 8]          --\n",
            "├─Conv2d: 1-46                           [250, 256, 8, 8]          (590,080)\n",
            "├─BatchNorm2d: 1-47                      [250, 256, 8, 8]          (512)\n",
            "├─ReLU: 1-48                             [250, 256, 8, 8]          --\n",
            "├─Conv2d: 1-49                           [250, 256, 8, 8]          (590,080)\n",
            "├─BatchNorm2d: 1-50                      [250, 256, 8, 8]          (512)\n",
            "├─ReLU: 1-51                             [250, 256, 8, 8]          --\n",
            "├─Conv2d: 1-52                           [250, 256, 8, 8]          (590,080)\n",
            "├─BatchNorm2d: 1-53                      [250, 256, 8, 8]          (512)\n",
            "├─ReLU: 1-54                             [250, 256, 8, 8]          --\n",
            "├─MaxPool2d: 1-55                        [250, 256, 4, 4]          --\n",
            "├─Flatten: 1-56                          [250, 4096]               --\n",
            "├─Linear: 1-57                           [250, 100]                409,700\n",
            "==========================================================================================\n",
            "Total params: 3,487,076\n",
            "Trainable params: 409,700\n",
            "Non-trainable params: 3,077,376\n",
            "Total mult-adds (G): 299.62\n",
            "==========================================================================================\n",
            "Input size (MB): 12.29\n",
            "Forward/backward pass size (MB): 7602.38\n",
            "Params size (MB): 13.95\n",
            "Estimated Total Size (MB): 7628.61\n",
            "==========================================================================================\n"
          ]
        },
        {
          "output_type": "display_data",
          "data": {
            "text/plain": [
              "<Figure size 640x480 with 0 Axes>"
            ]
          },
          "metadata": {}
        },
        {
          "output_type": "display_data",
          "data": {
            "text/plain": [
              "<Figure size 2000x2000 with 0 Axes>"
            ]
          },
          "metadata": {}
        },
        {
          "output_type": "display_data",
          "data": {
            "text/plain": [
              "<Figure size 2000x2000 with 0 Axes>"
            ]
          },
          "metadata": {}
        },
        {
          "output_type": "display_data",
          "data": {
            "text/plain": [
              "<Figure size 2000x2000 with 0 Axes>"
            ]
          },
          "metadata": {}
        },
        {
          "output_type": "display_data",
          "data": {
            "text/plain": [
              "<Figure size 2000x2000 with 0 Axes>"
            ]
          },
          "metadata": {}
        },
        {
          "output_type": "display_data",
          "data": {
            "text/plain": [
              "<Figure size 2000x2000 with 0 Axes>"
            ]
          },
          "metadata": {}
        },
        {
          "output_type": "display_data",
          "data": {
            "text/plain": [
              "<Figure size 2000x2000 with 0 Axes>"
            ]
          },
          "metadata": {}
        },
        {
          "output_type": "display_data",
          "data": {
            "text/plain": [
              "<Figure size 2000x2000 with 0 Axes>"
            ]
          },
          "metadata": {}
        },
        {
          "output_type": "display_data",
          "data": {
            "text/plain": [
              "<Figure size 2000x2000 with 0 Axes>"
            ]
          },
          "metadata": {}
        },
        {
          "output_type": "display_data",
          "data": {
            "text/plain": [
              "<Figure size 2000x2000 with 0 Axes>"
            ]
          },
          "metadata": {}
        },
        {
          "output_type": "display_data",
          "data": {
            "text/plain": [
              "<Figure size 2000x2000 with 0 Axes>"
            ]
          },
          "metadata": {}
        },
        {
          "output_type": "display_data",
          "data": {
            "text/plain": [
              "<Figure size 2000x2000 with 0 Axes>"
            ]
          },
          "metadata": {}
        },
        {
          "output_type": "display_data",
          "data": {
            "text/plain": [
              "<Figure size 2000x2000 with 0 Axes>"
            ]
          },
          "metadata": {}
        },
        {
          "output_type": "display_data",
          "data": {
            "text/plain": [
              "<Figure size 2000x2000 with 0 Axes>"
            ]
          },
          "metadata": {}
        },
        {
          "output_type": "display_data",
          "data": {
            "text/plain": [
              "<Figure size 2000x2000 with 0 Axes>"
            ]
          },
          "metadata": {}
        },
        {
          "output_type": "display_data",
          "data": {
            "text/plain": [
              "<Figure size 2000x2000 with 0 Axes>"
            ]
          },
          "metadata": {}
        },
        {
          "output_type": "display_data",
          "data": {
            "text/plain": [
              "<Figure size 2000x2000 with 0 Axes>"
            ]
          },
          "metadata": {}
        },
        {
          "output_type": "display_data",
          "data": {
            "text/plain": [
              "<Figure size 2000x2000 with 0 Axes>"
            ]
          },
          "metadata": {}
        },
        {
          "output_type": "display_data",
          "data": {
            "text/plain": [
              "<Figure size 2000x2000 with 0 Axes>"
            ]
          },
          "metadata": {}
        },
        {
          "output_type": "display_data",
          "data": {
            "text/plain": [
              "<Figure size 2000x2000 with 0 Axes>"
            ]
          },
          "metadata": {}
        },
        {
          "output_type": "display_data",
          "data": {
            "text/plain": [
              "<Figure size 2000x2000 with 0 Axes>"
            ]
          },
          "metadata": {}
        },
        {
          "output_type": "display_data",
          "data": {
            "text/plain": [
              "<Figure size 2000x2000 with 0 Axes>"
            ]
          },
          "metadata": {}
        },
        {
          "output_type": "display_data",
          "data": {
            "text/plain": [
              "<Figure size 2000x2000 with 0 Axes>"
            ]
          },
          "metadata": {}
        },
        {
          "output_type": "display_data",
          "data": {
            "text/plain": [
              "<Figure size 2000x2000 with 0 Axes>"
            ]
          },
          "metadata": {}
        },
        {
          "output_type": "display_data",
          "data": {
            "text/plain": [
              "<Figure size 2000x2000 with 0 Axes>"
            ]
          },
          "metadata": {}
        },
        {
          "output_type": "display_data",
          "data": {
            "text/plain": [
              "<Figure size 2000x2000 with 0 Axes>"
            ]
          },
          "metadata": {}
        },
        {
          "output_type": "display_data",
          "data": {
            "text/plain": [
              "<Figure size 2000x2000 with 0 Axes>"
            ]
          },
          "metadata": {}
        },
        {
          "output_type": "display_data",
          "data": {
            "text/plain": [
              "<Figure size 2000x2000 with 0 Axes>"
            ]
          },
          "metadata": {}
        },
        {
          "output_type": "display_data",
          "data": {
            "text/plain": [
              "<Figure size 2000x2000 with 0 Axes>"
            ]
          },
          "metadata": {}
        },
        {
          "output_type": "display_data",
          "data": {
            "text/plain": [
              "<Figure size 2000x2000 with 0 Axes>"
            ]
          },
          "metadata": {}
        },
        {
          "output_type": "display_data",
          "data": {
            "text/plain": [
              "<Figure size 2000x2000 with 0 Axes>"
            ]
          },
          "metadata": {}
        },
        {
          "output_type": "display_data",
          "data": {
            "text/plain": [
              "<Figure size 2000x2000 with 0 Axes>"
            ]
          },
          "metadata": {}
        },
        {
          "output_type": "display_data",
          "data": {
            "text/plain": [
              "<Figure size 2000x2000 with 0 Axes>"
            ]
          },
          "metadata": {}
        },
        {
          "output_type": "display_data",
          "data": {
            "text/plain": [
              "<Figure size 2000x2000 with 0 Axes>"
            ]
          },
          "metadata": {}
        },
        {
          "output_type": "display_data",
          "data": {
            "text/plain": [
              "<Figure size 2000x2000 with 0 Axes>"
            ]
          },
          "metadata": {}
        },
        {
          "output_type": "display_data",
          "data": {
            "text/plain": [
              "<Figure size 2000x2000 with 0 Axes>"
            ]
          },
          "metadata": {}
        },
        {
          "output_type": "display_data",
          "data": {
            "text/plain": [
              "<Figure size 2000x2000 with 0 Axes>"
            ]
          },
          "metadata": {}
        },
        {
          "output_type": "display_data",
          "data": {
            "text/plain": [
              "<Figure size 2000x2000 with 0 Axes>"
            ]
          },
          "metadata": {}
        },
        {
          "output_type": "display_data",
          "data": {
            "text/plain": [
              "<Figure size 2000x2000 with 0 Axes>"
            ]
          },
          "metadata": {}
        },
        {
          "output_type": "display_data",
          "data": {
            "text/plain": [
              "<Figure size 2000x2000 with 0 Axes>"
            ]
          },
          "metadata": {}
        },
        {
          "output_type": "display_data",
          "data": {
            "text/plain": [
              "<Figure size 2000x2000 with 0 Axes>"
            ]
          },
          "metadata": {}
        },
        {
          "output_type": "display_data",
          "data": {
            "text/plain": [
              "<Figure size 2000x2000 with 0 Axes>"
            ]
          },
          "metadata": {}
        },
        {
          "output_type": "display_data",
          "data": {
            "text/plain": [
              "<Figure size 2000x2000 with 0 Axes>"
            ]
          },
          "metadata": {}
        },
        {
          "output_type": "display_data",
          "data": {
            "text/plain": [
              "<Figure size 2000x2000 with 0 Axes>"
            ]
          },
          "metadata": {}
        },
        {
          "output_type": "display_data",
          "data": {
            "text/plain": [
              "<Figure size 2000x2000 with 0 Axes>"
            ]
          },
          "metadata": {}
        },
        {
          "output_type": "display_data",
          "data": {
            "text/plain": [
              "<Figure size 2000x2000 with 0 Axes>"
            ]
          },
          "metadata": {}
        },
        {
          "output_type": "display_data",
          "data": {
            "text/plain": [
              "<Figure size 2000x2000 with 0 Axes>"
            ]
          },
          "metadata": {}
        },
        {
          "output_type": "display_data",
          "data": {
            "text/plain": [
              "<Figure size 2000x2000 with 0 Axes>"
            ]
          },
          "metadata": {}
        },
        {
          "output_type": "display_data",
          "data": {
            "text/plain": [
              "<Figure size 2000x2000 with 0 Axes>"
            ]
          },
          "metadata": {}
        },
        {
          "output_type": "display_data",
          "data": {
            "text/plain": [
              "<Figure size 2000x2000 with 0 Axes>"
            ]
          },
          "metadata": {}
        },
        {
          "output_type": "display_data",
          "data": {
            "text/plain": [
              "<Figure size 2000x2000 with 0 Axes>"
            ]
          },
          "metadata": {}
        },
        {
          "output_type": "display_data",
          "data": {
            "text/plain": [
              "<Figure size 2000x2000 with 0 Axes>"
            ]
          },
          "metadata": {}
        },
        {
          "output_type": "display_data",
          "data": {
            "text/plain": [
              "<Figure size 2000x2000 with 0 Axes>"
            ]
          },
          "metadata": {}
        },
        {
          "output_type": "display_data",
          "data": {
            "text/plain": [
              "<Figure size 2000x2000 with 0 Axes>"
            ]
          },
          "metadata": {}
        },
        {
          "output_type": "display_data",
          "data": {
            "text/plain": [
              "<Figure size 2000x2000 with 0 Axes>"
            ]
          },
          "metadata": {}
        },
        {
          "output_type": "display_data",
          "data": {
            "text/plain": [
              "<Figure size 2000x2000 with 0 Axes>"
            ]
          },
          "metadata": {}
        },
        {
          "output_type": "display_data",
          "data": {
            "text/plain": [
              "<Figure size 2000x2000 with 0 Axes>"
            ]
          },
          "metadata": {}
        },
        {
          "output_type": "display_data",
          "data": {
            "text/plain": [
              "<Figure size 2000x2000 with 0 Axes>"
            ]
          },
          "metadata": {}
        },
        {
          "output_type": "display_data",
          "data": {
            "text/plain": [
              "<Figure size 2000x2000 with 0 Axes>"
            ]
          },
          "metadata": {}
        },
        {
          "output_type": "display_data",
          "data": {
            "text/plain": [
              "<Figure size 2000x2000 with 0 Axes>"
            ]
          },
          "metadata": {}
        },
        {
          "output_type": "display_data",
          "data": {
            "text/plain": [
              "<Figure size 2000x2000 with 1 Axes>"
            ],
            "image/png": "[encoded data removed]"
          },
          "metadata": {}
        },
        {
          "output_type": "display_data",
          "data": {
            "text/plain": [
              "<Figure size 1400x600 with 0 Axes>"
            ]
          },
          "metadata": {}
        }
      ]
    },
    {
      "cell_type": "markdown",
      "source": [
        "## part3 - evaluate on B dataset"
      ],
      "metadata": {
        "id": "K6ETnyKdVskg"
      }
    },
    {
      "cell_type": "code",
      "source": [
        "def evaluate_B_3():\n",
        "    num_epochs = 60\n",
        "    learning_rate = 0.0003\n",
        "\n",
        "    full_dataloaders = {\n",
        "        'train': B_train_dl,\n",
        "        'test': test_all\n",
        "    }\n",
        "\n",
        "    # loading phase1 model\n",
        "    model1 = CNN(80)\n",
        "    model2 = CNN(100)\n",
        "    model1 = model1.to(device)\n",
        "    model2 = model2.to(device)\n",
        "    model_path = './CNN_model_ph1.pth'\n",
        "    model1.load_state_dict(torch.load(model_path))\n",
        "\n",
        "    # Copy parameters from model1 to model2 (excluding the fully connected layer)\n",
        "    for layer1, layer2 in zip(model1.children(), model2.children()):\n",
        "        if isinstance(layer1, nn.Linear):\n",
        "            continue  # Skip copying parameters for fully connected layer\n",
        "\n",
        "        # Copy parameters from layer1 to layer2\n",
        "        for param1, param2 in zip(layer1.parameters(), layer2.parameters()):\n",
        "            param2.data.copy_(param1.data)\n",
        "\n",
        "    model2.fc.weight.data[:80, :] = model1.fc.weight.data\n",
        "    model2.fc.bias.data[:80] = model1.fc.bias.data\n",
        "\n",
        "    # freeze all the layers exept last 20 neurons of fully connected layer\n",
        "    model2.freeze_except_FC_layer()\n",
        "    model2.freeze_FC_except_last_20_neurons()\n",
        "\n",
        "    optimizer = torch.optim.SGD(model2.parameters(), lr=learning_rate, momentum=0.9)\n",
        "    cross_entropy = nn.CrossEntropyLoss()\n",
        "\n",
        "    acc_history = {'train': [], 'test': []}\n",
        "    loss_history = {'train': [], 'test': []}\n",
        "\n",
        "    for epoch in range(num_epochs):\n",
        "        train_acc, train_loss = train_one_epoch(model=model2, optim=optimizer, dataloader=full_dataloaders['train'], loss_fn=cross_entropy)\n",
        "        test_acc, test_loss, true_labels, pred_labels = test_model(model=model2, dataloader=full_dataloaders['test'], loss_fn=cross_entropy)\n",
        "\n",
        "        acc_history['train'].append(train_acc)\n",
        "        acc_history['test'].append(test_acc)\n",
        "        loss_history['train'].append(train_loss)\n",
        "        loss_history['test'].append(test_loss)\n",
        "\n",
        "        plot_conf(true_labels.cpu(), pred_labels.cpu(), f\"epoch num :{epoch}\", './ph2_3_matrix', f'epoch_{epoch}')\n",
        "\n",
        "        print(f\"---------< epoch: {epoch} >---------\")\n",
        "\n",
        "    # # save model\n",
        "    model_path = './CNN_model_ph2_3.pth'\n",
        "    torch.save(model2.state_dict(), model_path)\n",
        "\n",
        "    # plot accuracy and loss\n",
        "    custom_plot_training_stats(acc_history, loss_history, ['train', 'test'], title='demp', dir='demo_plots_2_3')\n",
        "\n",
        "    # show the details of model\n",
        "    batch_size=250\n",
        "    print(summary(model2, input_size=(batch_size, 3, 64, 64)))\n",
        "\n",
        "    return (acc_history, loss_history)"
      ],
      "metadata": {
        "id": "wK_Yxq1qVsMG"
      },
      "execution_count": 23,
      "outputs": []
    },
    {
      "cell_type": "code",
      "source": [
        "from google.colab import drive\n",
        "drive.mount('/content/drive')"
      ],
      "metadata": {
        "colab": {
          "base_uri": "https://localhost:8080/"
        },
        "id": "PXQShk7o-JYa",
        "outputId": "b3158798-4078-48b6-be1e-a5d82cf93b72"
      },
      "execution_count": 25,
      "outputs": [
        {
          "output_type": "stream",
          "name": "stdout",
          "text": [
            "Mounted at /content/drive\n"
          ]
        }
      ]
    },
    {
      "cell_type": "code",
      "source": [
        "acc_history2_2, loss_history2_2 = evaluate_B_3()"
      ],
      "metadata": {
        "id": "jRgJ2IUSVu-w",
        "colab": {
          "base_uri": "https://localhost:8080/",
          "height": 1000
        },
        "outputId": "1e902374-9b28-4fda-db39-a0b72a3ad2b2"
      },
      "execution_count": 24,
      "outputs": [
        {
          "output_type": "stream",
          "name": "stdout",
          "text": [
            "train:  tensor(0) 100\n",
            "test:  tensor(27) 2056\n",
            "---------< epoch: 0 >---------\n",
            "train:  tensor(0) 100\n",
            "test:  tensor(27) 2056\n",
            "---------< epoch: 1 >---------\n",
            "train:  tensor(0) 100\n",
            "test:  tensor(27) 2056\n",
            "---------< epoch: 2 >---------\n",
            "train:  tensor(0) 100\n",
            "test:  tensor(27) 2056\n",
            "---------< epoch: 3 >---------\n",
            "train:  tensor(0) 100\n",
            "test:  tensor(27) 2056\n",
            "---------< epoch: 4 >---------\n",
            "train:  tensor(0) 100\n",
            "test:  tensor(27) 2056\n",
            "---------< epoch: 5 >---------\n",
            "train:  tensor(1) 100\n",
            "test:  tensor(27) 2056\n",
            "---------< epoch: 6 >---------\n",
            "train:  tensor(2) 100\n",
            "test:  tensor(27) 2056\n",
            "---------< epoch: 7 >---------\n",
            "train:  tensor(3) 100\n",
            "test:  tensor(27) 2056\n",
            "---------< epoch: 8 >---------\n",
            "train:  tensor(5) 100\n",
            "test:  tensor(27) 2056\n",
            "---------< epoch: 9 >---------\n",
            "train:  tensor(5) 100\n",
            "test:  tensor(27) 2056\n",
            "---------< epoch: 10 >---------\n",
            "train:  tensor(9) 100\n",
            "test:  tensor(27) 2056\n",
            "---------< epoch: 11 >---------\n",
            "train:  tensor(11) 100\n",
            "test:  tensor(27) 2056\n",
            "---------< epoch: 12 >---------\n",
            "train:  tensor(13) 100\n",
            "test:  tensor(27) 2056\n",
            "---------< epoch: 13 >---------\n",
            "train:  tensor(17) 100\n",
            "test:  tensor(27) 2056\n",
            "---------< epoch: 14 >---------\n",
            "train:  tensor(21) 100\n",
            "test:  tensor(27) 2056\n",
            "---------< epoch: 15 >---------\n",
            "train:  tensor(28) 100\n",
            "test:  tensor(31) 2056\n",
            "---------< epoch: 16 >---------\n",
            "train:  tensor(34) 100\n",
            "test:  tensor(31) 2056\n",
            "---------< epoch: 17 >---------\n",
            "train:  tensor(35) 100\n",
            "test:  tensor(38) 2056\n",
            "---------< epoch: 18 >---------\n",
            "train:  tensor(44) 100\n",
            "test:  tensor(43) 2056\n"
          ]
        },
        {
          "output_type": "stream",
          "name": "stderr",
          "text": [
            "<ipython-input-15-15acf31ff3a3>:14: RuntimeWarning: More than 20 figures have been opened. Figures created through the pyplot interface (`matplotlib.pyplot.figure`) are retained until explicitly closed and may consume too much memory. (To control this warning, see the rcParam `figure.max_open_warning`). Consider using `matplotlib.pyplot.close()`.\n",
            "  plt.figure(figsize=(20, 20))\n"
          ]
        },
        {
          "output_type": "stream",
          "name": "stdout",
          "text": [
            "---------< epoch: 19 >---------\n",
            "train:  tensor(49) 100\n",
            "test:  tensor(50) 2056\n",
            "---------< epoch: 20 >---------\n",
            "train:  tensor(57) 100\n",
            "test:  tensor(53) 2056\n",
            "---------< epoch: 21 >---------\n",
            "train:  tensor(59) 100\n",
            "test:  tensor(68) 2056\n",
            "---------< epoch: 22 >---------\n",
            "train:  tensor(68) 100\n",
            "test:  tensor(93) 2056\n",
            "---------< epoch: 23 >---------\n",
            "train:  tensor(64) 100\n",
            "test:  tensor(121) 2056\n",
            "---------< epoch: 24 >---------\n",
            "train:  tensor(68) 100\n",
            "test:  tensor(152) 2056\n",
            "---------< epoch: 25 >---------\n",
            "train:  tensor(67) 100\n",
            "test:  tensor(208) 2056\n",
            "---------< epoch: 26 >---------\n",
            "train:  tensor(73) 100\n",
            "test:  tensor(263) 2056\n",
            "---------< epoch: 27 >---------\n",
            "train:  tensor(75) 100\n",
            "test:  tensor(319) 2056\n",
            "---------< epoch: 28 >---------\n",
            "train:  tensor(75) 100\n",
            "test:  tensor(372) 2056\n",
            "---------< epoch: 29 >---------\n",
            "train:  tensor(84) 100\n",
            "test:  tensor(425) 2056\n",
            "---------< epoch: 30 >---------\n",
            "train:  tensor(81) 100\n",
            "test:  tensor(485) 2056\n",
            "---------< epoch: 31 >---------\n",
            "train:  tensor(84) 100\n",
            "test:  tensor(553) 2056\n",
            "---------< epoch: 32 >---------\n",
            "train:  tensor(80) 100\n",
            "test:  tensor(597) 2056\n",
            "---------< epoch: 33 >---------\n",
            "train:  tensor(81) 100\n",
            "test:  tensor(637) 2056\n",
            "---------< epoch: 34 >---------\n",
            "train:  tensor(86) 100\n",
            "test:  tensor(680) 2056\n",
            "---------< epoch: 35 >---------\n",
            "train:  tensor(81) 100\n",
            "test:  tensor(707) 2056\n",
            "---------< epoch: 36 >---------\n",
            "train:  tensor(84) 100\n",
            "test:  tensor(737) 2056\n",
            "---------< epoch: 37 >---------\n",
            "train:  tensor(89) 100\n",
            "test:  tensor(746) 2056\n",
            "---------< epoch: 38 >---------\n",
            "train:  tensor(88) 100\n",
            "test:  tensor(756) 2056\n",
            "---------< epoch: 39 >---------\n",
            "train:  tensor(88) 100\n",
            "test:  tensor(765) 2056\n",
            "---------< epoch: 40 >---------\n",
            "train:  tensor(90) 100\n",
            "test:  tensor(773) 2056\n",
            "---------< epoch: 41 >---------\n",
            "train:  tensor(90) 100\n",
            "test:  tensor(786) 2056\n",
            "---------< epoch: 42 >---------\n",
            "train:  tensor(94) 100\n",
            "test:  tensor(777) 2056\n",
            "---------< epoch: 43 >---------\n",
            "train:  tensor(92) 100\n",
            "test:  tensor(776) 2056\n",
            "---------< epoch: 44 >---------\n",
            "train:  tensor(94) 100\n",
            "test:  tensor(771) 2056\n",
            "---------< epoch: 45 >---------\n",
            "train:  tensor(100) 100\n",
            "test:  tensor(763) 2056\n",
            "---------< epoch: 46 >---------\n",
            "train:  tensor(94) 100\n",
            "test:  tensor(758) 2056\n",
            "---------< epoch: 47 >---------\n",
            "train:  tensor(96) 100\n",
            "test:  tensor(748) 2056\n",
            "---------< epoch: 48 >---------\n",
            "train:  tensor(97) 100\n",
            "test:  tensor(743) 2056\n",
            "---------< epoch: 49 >---------\n",
            "train:  tensor(98) 100\n",
            "test:  tensor(744) 2056\n",
            "---------< epoch: 50 >---------\n",
            "train:  tensor(93) 100\n",
            "test:  tensor(731) 2056\n",
            "---------< epoch: 51 >---------\n",
            "train:  tensor(95) 100\n",
            "test:  tensor(727) 2056\n",
            "---------< epoch: 52 >---------\n",
            "train:  tensor(97) 100\n",
            "test:  tensor(725) 2056\n",
            "---------< epoch: 53 >---------\n",
            "train:  tensor(94) 100\n",
            "test:  tensor(717) 2056\n",
            "---------< epoch: 54 >---------\n",
            "train:  tensor(96) 100\n",
            "test:  tensor(721) 2056\n",
            "---------< epoch: 55 >---------\n",
            "train:  tensor(98) 100\n",
            "test:  tensor(717) 2056\n",
            "---------< epoch: 56 >---------\n",
            "train:  tensor(96) 100\n",
            "test:  tensor(717) 2056\n",
            "---------< epoch: 57 >---------\n",
            "train:  tensor(98) 100\n",
            "test:  tensor(717) 2056\n",
            "---------< epoch: 58 >---------\n",
            "train:  tensor(97) 100\n",
            "test:  tensor(704) 2056\n",
            "---------< epoch: 59 >---------\n",
            "==========================================================================================\n",
            "Layer (type:depth-idx)                   Output Shape              Param #\n",
            "==========================================================================================\n",
            "CNN                                      [250, 100]                --\n",
            "├─Conv2d: 1-1                            [250, 64, 64, 64]         (1,792)\n",
            "├─BatchNorm2d: 1-2                       [250, 64, 64, 64]         (128)\n",
            "├─ReLU: 1-3                              [250, 64, 64, 64]         --\n",
            "├─Conv2d: 1-4                            [250, 64, 64, 64]         (36,928)\n",
            "├─BatchNorm2d: 1-5                       [250, 64, 64, 64]         (128)\n",
            "├─ReLU: 1-6                              [250, 64, 64, 64]         --\n",
            "├─Conv2d: 1-7                            [250, 64, 64, 64]         (36,928)\n",
            "├─BatchNorm2d: 1-8                       [250, 64, 64, 64]         (128)\n",
            "├─ReLU: 1-9                              [250, 64, 64, 64]         --\n",
            "├─Conv2d: 1-10                           [250, 64, 64, 64]         (36,928)\n",
            "├─BatchNorm2d: 1-11                      [250, 64, 64, 64]         (128)\n",
            "├─ReLU: 1-12                             [250, 64, 64, 64]         --\n",
            "├─Conv2d: 1-13                           [250, 64, 64, 64]         (36,928)\n",
            "├─BatchNorm2d: 1-14                      [250, 64, 64, 64]         (128)\n",
            "├─ReLU: 1-15                             [250, 64, 64, 64]         --\n",
            "├─MaxPool2d: 1-16                        [250, 64, 32, 32]         --\n",
            "├─Conv2d: 1-17                           [250, 96, 32, 32]         (55,392)\n",
            "├─BatchNorm2d: 1-18                      [250, 96, 32, 32]         (192)\n",
            "├─ReLU: 1-19                             [250, 96, 32, 32]         --\n",
            "├─Conv2d: 1-20                           [250, 96, 32, 32]         (83,040)\n",
            "├─BatchNorm2d: 1-21                      [250, 96, 32, 32]         (192)\n",
            "├─ReLU: 1-22                             [250, 96, 32, 32]         --\n",
            "├─Conv2d: 1-23                           [250, 96, 32, 32]         (83,040)\n",
            "├─BatchNorm2d: 1-24                      [250, 96, 32, 32]         (192)\n",
            "├─ReLU: 1-25                             [250, 96, 32, 32]         --\n",
            "├─Conv2d: 1-26                           [250, 96, 32, 32]         (83,040)\n",
            "├─BatchNorm2d: 1-27                      [250, 96, 32, 32]         (192)\n",
            "├─ReLU: 1-28                             [250, 96, 32, 32]         --\n",
            "├─MaxPool2d: 1-29                        [250, 96, 16, 16]         --\n",
            "├─Conv2d: 1-30                           [250, 128, 16, 16]        (110,720)\n",
            "├─BatchNorm2d: 1-31                      [250, 128, 16, 16]        (256)\n",
            "├─ReLU: 1-32                             [250, 128, 16, 16]        --\n",
            "├─Conv2d: 1-33                           [250, 128, 16, 16]        (147,584)\n",
            "├─BatchNorm2d: 1-34                      [250, 128, 16, 16]        (256)\n",
            "├─ReLU: 1-35                             [250, 128, 16, 16]        --\n",
            "├─Conv2d: 1-36                           [250, 128, 16, 16]        (147,584)\n",
            "├─BatchNorm2d: 1-37                      [250, 128, 16, 16]        (256)\n",
            "├─ReLU: 1-38                             [250, 128, 16, 16]        --\n",
            "├─Conv2d: 1-39                           [250, 128, 16, 16]        (147,584)\n",
            "├─BatchNorm2d: 1-40                      [250, 128, 16, 16]        (256)\n",
            "├─ReLU: 1-41                             [250, 128, 16, 16]        --\n",
            "├─MaxPool2d: 1-42                        [250, 128, 8, 8]          --\n",
            "├─Conv2d: 1-43                           [250, 256, 8, 8]          (295,168)\n",
            "├─BatchNorm2d: 1-44                      [250, 256, 8, 8]          (512)\n",
            "├─ReLU: 1-45                             [250, 256, 8, 8]          --\n",
            "├─Conv2d: 1-46                           [250, 256, 8, 8]          (590,080)\n",
            "├─BatchNorm2d: 1-47                      [250, 256, 8, 8]          (512)\n",
            "├─ReLU: 1-48                             [250, 256, 8, 8]          --\n",
            "├─Conv2d: 1-49                           [250, 256, 8, 8]          (590,080)\n",
            "├─BatchNorm2d: 1-50                      [250, 256, 8, 8]          (512)\n",
            "├─ReLU: 1-51                             [250, 256, 8, 8]          --\n",
            "├─Conv2d: 1-52                           [250, 256, 8, 8]          (590,080)\n",
            "├─BatchNorm2d: 1-53                      [250, 256, 8, 8]          (512)\n",
            "├─ReLU: 1-54                             [250, 256, 8, 8]          --\n",
            "├─MaxPool2d: 1-55                        [250, 256, 4, 4]          --\n",
            "├─Flatten: 1-56                          [250, 4096]               --\n",
            "├─Linear: 1-57                           [250, 100]                409,700\n",
            "==========================================================================================\n",
            "Total params: 3,487,076\n",
            "Trainable params: 409,700\n",
            "Non-trainable params: 3,077,376\n",
            "Total mult-adds (G): 299.62\n",
            "==========================================================================================\n",
            "Input size (MB): 12.29\n",
            "Forward/backward pass size (MB): 7602.38\n",
            "Params size (MB): 13.95\n",
            "Estimated Total Size (MB): 7628.61\n",
            "==========================================================================================\n"
          ]
        },
        {
          "output_type": "display_data",
          "data": {
            "text/plain": [
              "<Figure size 640x480 with 0 Axes>"
            ]
          },
          "metadata": {}
        },
        {
          "output_type": "display_data",
          "data": {
            "text/plain": [
              "<Figure size 2000x2000 with 0 Axes>"
            ]
          },
          "metadata": {}
        },
        {
          "output_type": "display_data",
          "data": {
            "text/plain": [
              "<Figure size 2000x2000 with 0 Axes>"
            ]
          },
          "metadata": {}
        },
        {
          "output_type": "display_data",
          "data": {
            "text/plain": [
              "<Figure size 2000x2000 with 0 Axes>"
            ]
          },
          "metadata": {}
        },
        {
          "output_type": "display_data",
          "data": {
            "text/plain": [
              "<Figure size 2000x2000 with 0 Axes>"
            ]
          },
          "metadata": {}
        },
        {
          "output_type": "display_data",
          "data": {
            "text/plain": [
              "<Figure size 2000x2000 with 0 Axes>"
            ]
          },
          "metadata": {}
        },
        {
          "output_type": "display_data",
          "data": {
            "text/plain": [
              "<Figure size 2000x2000 with 0 Axes>"
            ]
          },
          "metadata": {}
        },
        {
          "output_type": "display_data",
          "data": {
            "text/plain": [
              "<Figure size 2000x2000 with 0 Axes>"
            ]
          },
          "metadata": {}
        },
        {
          "output_type": "display_data",
          "data": {
            "text/plain": [
              "<Figure size 2000x2000 with 0 Axes>"
            ]
          },
          "metadata": {}
        },
        {
          "output_type": "display_data",
          "data": {
            "text/plain": [
              "<Figure size 2000x2000 with 0 Axes>"
            ]
          },
          "metadata": {}
        },
        {
          "output_type": "display_data",
          "data": {
            "text/plain": [
              "<Figure size 2000x2000 with 0 Axes>"
            ]
          },
          "metadata": {}
        },
        {
          "output_type": "display_data",
          "data": {
            "text/plain": [
              "<Figure size 2000x2000 with 0 Axes>"
            ]
          },
          "metadata": {}
        },
        {
          "output_type": "display_data",
          "data": {
            "text/plain": [
              "<Figure size 2000x2000 with 0 Axes>"
            ]
          },
          "metadata": {}
        },
        {
          "output_type": "display_data",
          "data": {
            "text/plain": [
              "<Figure size 2000x2000 with 0 Axes>"
            ]
          },
          "metadata": {}
        },
        {
          "output_type": "display_data",
          "data": {
            "text/plain": [
              "<Figure size 2000x2000 with 0 Axes>"
            ]
          },
          "metadata": {}
        },
        {
          "output_type": "display_data",
          "data": {
            "text/plain": [
              "<Figure size 2000x2000 with 0 Axes>"
            ]
          },
          "metadata": {}
        },
        {
          "output_type": "display_data",
          "data": {
            "text/plain": [
              "<Figure size 2000x2000 with 0 Axes>"
            ]
          },
          "metadata": {}
        },
        {
          "output_type": "display_data",
          "data": {
            "text/plain": [
              "<Figure size 2000x2000 with 0 Axes>"
            ]
          },
          "metadata": {}
        },
        {
          "output_type": "display_data",
          "data": {
            "text/plain": [
              "<Figure size 2000x2000 with 0 Axes>"
            ]
          },
          "metadata": {}
        },
        {
          "output_type": "display_data",
          "data": {
            "text/plain": [
              "<Figure size 2000x2000 with 0 Axes>"
            ]
          },
          "metadata": {}
        },
        {
          "output_type": "display_data",
          "data": {
            "text/plain": [
              "<Figure size 2000x2000 with 0 Axes>"
            ]
          },
          "metadata": {}
        },
        {
          "output_type": "display_data",
          "data": {
            "text/plain": [
              "<Figure size 2000x2000 with 0 Axes>"
            ]
          },
          "metadata": {}
        },
        {
          "output_type": "display_data",
          "data": {
            "text/plain": [
              "<Figure size 2000x2000 with 0 Axes>"
            ]
          },
          "metadata": {}
        },
        {
          "output_type": "display_data",
          "data": {
            "text/plain": [
              "<Figure size 2000x2000 with 0 Axes>"
            ]
          },
          "metadata": {}
        },
        {
          "output_type": "display_data",
          "data": {
            "text/plain": [
              "<Figure size 2000x2000 with 0 Axes>"
            ]
          },
          "metadata": {}
        },
        {
          "output_type": "display_data",
          "data": {
            "text/plain": [
              "<Figure size 2000x2000 with 0 Axes>"
            ]
          },
          "metadata": {}
        },
        {
          "output_type": "display_data",
          "data": {
            "text/plain": [
              "<Figure size 2000x2000 with 0 Axes>"
            ]
          },
          "metadata": {}
        },
        {
          "output_type": "display_data",
          "data": {
            "text/plain": [
              "<Figure size 2000x2000 with 0 Axes>"
            ]
          },
          "metadata": {}
        },
        {
          "output_type": "display_data",
          "data": {
            "text/plain": [
              "<Figure size 2000x2000 with 0 Axes>"
            ]
          },
          "metadata": {}
        },
        {
          "output_type": "display_data",
          "data": {
            "text/plain": [
              "<Figure size 2000x2000 with 0 Axes>"
            ]
          },
          "metadata": {}
        },
        {
          "output_type": "display_data",
          "data": {
            "text/plain": [
              "<Figure size 2000x2000 with 0 Axes>"
            ]
          },
          "metadata": {}
        },
        {
          "output_type": "display_data",
          "data": {
            "text/plain": [
              "<Figure size 2000x2000 with 0 Axes>"
            ]
          },
          "metadata": {}
        },
        {
          "output_type": "display_data",
          "data": {
            "text/plain": [
              "<Figure size 2000x2000 with 0 Axes>"
            ]
          },
          "metadata": {}
        },
        {
          "output_type": "display_data",
          "data": {
            "text/plain": [
              "<Figure size 2000x2000 with 0 Axes>"
            ]
          },
          "metadata": {}
        },
        {
          "output_type": "display_data",
          "data": {
            "text/plain": [
              "<Figure size 2000x2000 with 0 Axes>"
            ]
          },
          "metadata": {}
        },
        {
          "output_type": "display_data",
          "data": {
            "text/plain": [
              "<Figure size 2000x2000 with 0 Axes>"
            ]
          },
          "metadata": {}
        },
        {
          "output_type": "display_data",
          "data": {
            "text/plain": [
              "<Figure size 2000x2000 with 0 Axes>"
            ]
          },
          "metadata": {}
        },
        {
          "output_type": "display_data",
          "data": {
            "text/plain": [
              "<Figure size 2000x2000 with 0 Axes>"
            ]
          },
          "metadata": {}
        },
        {
          "output_type": "display_data",
          "data": {
            "text/plain": [
              "<Figure size 2000x2000 with 0 Axes>"
            ]
          },
          "metadata": {}
        },
        {
          "output_type": "display_data",
          "data": {
            "text/plain": [
              "<Figure size 2000x2000 with 0 Axes>"
            ]
          },
          "metadata": {}
        },
        {
          "output_type": "display_data",
          "data": {
            "text/plain": [
              "<Figure size 2000x2000 with 0 Axes>"
            ]
          },
          "metadata": {}
        },
        {
          "output_type": "display_data",
          "data": {
            "text/plain": [
              "<Figure size 2000x2000 with 0 Axes>"
            ]
          },
          "metadata": {}
        },
        {
          "output_type": "display_data",
          "data": {
            "text/plain": [
              "<Figure size 2000x2000 with 0 Axes>"
            ]
          },
          "metadata": {}
        },
        {
          "output_type": "display_data",
          "data": {
            "text/plain": [
              "<Figure size 2000x2000 with 0 Axes>"
            ]
          },
          "metadata": {}
        },
        {
          "output_type": "display_data",
          "data": {
            "text/plain": [
              "<Figure size 2000x2000 with 0 Axes>"
            ]
          },
          "metadata": {}
        },
        {
          "output_type": "display_data",
          "data": {
            "text/plain": [
              "<Figure size 2000x2000 with 0 Axes>"
            ]
          },
          "metadata": {}
        },
        {
          "output_type": "display_data",
          "data": {
            "text/plain": [
              "<Figure size 2000x2000 with 0 Axes>"
            ]
          },
          "metadata": {}
        },
        {
          "output_type": "display_data",
          "data": {
            "text/plain": [
              "<Figure size 2000x2000 with 0 Axes>"
            ]
          },
          "metadata": {}
        },
        {
          "output_type": "display_data",
          "data": {
            "text/plain": [
              "<Figure size 2000x2000 with 0 Axes>"
            ]
          },
          "metadata": {}
        },
        {
          "output_type": "display_data",
          "data": {
            "text/plain": [
              "<Figure size 2000x2000 with 0 Axes>"
            ]
          },
          "metadata": {}
        },
        {
          "output_type": "display_data",
          "data": {
            "text/plain": [
              "<Figure size 2000x2000 with 0 Axes>"
            ]
          },
          "metadata": {}
        },
        {
          "output_type": "display_data",
          "data": {
            "text/plain": [
              "<Figure size 2000x2000 with 0 Axes>"
            ]
          },
          "metadata": {}
        },
        {
          "output_type": "display_data",
          "data": {
            "text/plain": [
              "<Figure size 2000x2000 with 0 Axes>"
            ]
          },
          "metadata": {}
        },
        {
          "output_type": "display_data",
          "data": {
            "text/plain": [
              "<Figure size 2000x2000 with 0 Axes>"
            ]
          },
          "metadata": {}
        },
        {
          "output_type": "display_data",
          "data": {
            "text/plain": [
              "<Figure size 2000x2000 with 0 Axes>"
            ]
          },
          "metadata": {}
        },
        {
          "output_type": "display_data",
          "data": {
            "text/plain": [
              "<Figure size 2000x2000 with 0 Axes>"
            ]
          },
          "metadata": {}
        },
        {
          "output_type": "display_data",
          "data": {
            "text/plain": [
              "<Figure size 2000x2000 with 0 Axes>"
            ]
          },
          "metadata": {}
        },
        {
          "output_type": "display_data",
          "data": {
            "text/plain": [
              "<Figure size 2000x2000 with 0 Axes>"
            ]
          },
          "metadata": {}
        },
        {
          "output_type": "display_data",
          "data": {
            "text/plain": [
              "<Figure size 2000x2000 with 0 Axes>"
            ]
          },
          "metadata": {}
        },
        {
          "output_type": "display_data",
          "data": {
            "text/plain": [
              "<Figure size 2000x2000 with 0 Axes>"
            ]
          },
          "metadata": {}
        },
        {
          "output_type": "display_data",
          "data": {
            "text/plain": [
              "<Figure size 2000x2000 with 1 Axes>"
            ],
            "image/png": "[encoded data removed]"
          },
          "metadata": {}
        },
        {
          "output_type": "display_data",
          "data": {
            "text/plain": [
              "<Figure size 1400x600 with 0 Axes>"
            ]
          },
          "metadata": {}
        }
      ]
    },
    {
      "cell_type": "code",
      "source": [],
      "metadata": {
        "id": "WhwZ1kDmbHhH"
      },
      "execution_count": 24,
      "outputs": []
    }
  ],
  "metadata": {
    "accelerator": "GPU",
    "colab": {
      "collapsed_sections": [
        "6VoGLQNV0AOX",
        "cvgSb4Y8TDd5",
        "8X58_xpiTDd8",
        "C9F2sjhX2e9t"
      ],
      "provenance": [],
      "gpuType": "T4"
    },
    "kernelspec": {
      "display_name": "Python 3",
      "name": "python3"
    },
    "language_info": {
      "codemirror_mode": {
        "name": "ipython",
        "version": 3
      },
      "file_extension": ".py",
      "mimetype": "text/x-python",
      "name": "python",
      "nbconvert_exporter": "python",
      "pygments_lexer": "ipython3",
      "version": "3.10.5"
    }
  },
  "nbformat": 4,
  "nbformat_minor": 0
}